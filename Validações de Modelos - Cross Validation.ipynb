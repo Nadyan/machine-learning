{
  "nbformat": 4,
  "nbformat_minor": 0,
  "metadata": {
    "colab": {
      "name": "Validações de Modelos - Cross Validation.ipynb",
      "provenance": []
    },
    "kernelspec": {
      "name": "python3",
      "display_name": "Python 3"
    },
    "language_info": {
      "name": "python"
    }
  },
  "cells": [
    {
      "cell_type": "markdown",
      "metadata": {
        "id": "n8C9AvNEoiPt"
      },
      "source": [
        "# Cross Validation\n",
        "\n",
        "As nossas decisões não podem depender da aleatoriedade dos algoritmos.\n",
        "Por exemplo validar um modelo de acordo com sua eficácia, sendo que a eficácia foi calculada utilizando um SEED aleatório."
      ]
    },
    {
      "cell_type": "code",
      "metadata": {
        "id": "KXR4Q_gIrT3l"
      },
      "source": [
        "import pandas as pd\n",
        "import numpy as np\n",
        "\n",
        "from sklearn.model_selection import train_test_split\n",
        "from sklearn.metrics import accuracy_score\n",
        "from sklearn.dummy import DummyClassifier\n",
        "from sklearn.tree import DecisionTreeClassifier\n",
        "\n",
        "from sklearn.model_selection import cross_validate"
      ],
      "execution_count": 1,
      "outputs": []
    },
    {
      "cell_type": "code",
      "metadata": {
        "colab": {
          "base_uri": "https://localhost:8080/"
        },
        "id": "zZ6mgQTiir7k",
        "outputId": "8843041d-ab56-4b55-af87-4a7243d6fef0"
      },
      "source": [
        "url = \"https://gist.githubusercontent.com/guilhermesilveira/e99a526b2e7ccc6c3b70f53db43a87d2/raw/1605fc74aa778066bf2e6695e24d53cf65f2f447/machine-learning-carros-simulacao.csv\"\n",
        "\n",
        "dados = pd.read_csv(url)\n",
        "\n",
        "dados = dados.drop(columns=[\"Unnamed: 0\"], axis = 1)\n",
        "\n",
        "x = dados[['preco','idade_do_modelo','km_por_ano']]\n",
        "y = dados['vendido']\n",
        "\n",
        "SEED = 158020\n",
        "np.random.seed(SEED)\n",
        "\n",
        "print(\"SEED utilizado: %d\" % SEED)\n",
        "\n",
        "treino_x, teste_x, treino_y, teste_y = train_test_split(x, y, test_size = 0.25, stratify = y)\n",
        "\n",
        "print(\"Treino com %d elementos e teste com %d elementos.\" % (len(treino_x), len(teste_x)))\n",
        "\n",
        "## Taxa de acerto baseline #######################################\n",
        "\n",
        "dummy = DummyClassifier(strategy = 'stratified')\n",
        "dummy.fit(treino_x, treino_y)\n",
        "acuracia_dummy = dummy.score(teste_x, teste_y)\n",
        "\n",
        "print(\"Acurácia Dummy: %.2f%%\" % (acuracia_dummy * 100))\n",
        "\n",
        "## Taxa de acerto Decision Tree ###################################\n",
        "\n",
        "decisionTree = DecisionTreeClassifier(max_depth = 2)\n",
        "decisionTree.fit(treino_x, treino_y)\n",
        "\n",
        "previsoes = decisionTree.predict(teste_x)\n",
        "\n",
        "acuracia = accuracy_score(teste_y, previsoes)\n",
        "\n",
        "print(\"Acurácia Decision Tree com 2 níveis: %.2f%%\" % (acuracia * 100))"
      ],
      "execution_count": 2,
      "outputs": [
        {
          "output_type": "stream",
          "text": [
            "SEED utilizado: 158020\n",
            "Treino com 7500 elementos e teste com 2500 elementos.\n",
            "Acurácia Dummy: 50.96%\n",
            "Acurácia Decision Tree com 2 níveis: 71.92%\n"
          ],
          "name": "stdout"
        }
      ]
    },
    {
      "cell_type": "markdown",
      "metadata": {
        "id": "KTHdvU04qQJl"
      },
      "source": [
        "# KFold\n",
        "\n",
        "Os valores de acurácia se dão por conta do valor de SEED passado. Queremos uma estimativa menos relacionada a aleatoriedade.\n",
        "\n",
        " - Um método é rodar o treino e o teste diversas vezes para encontrar um intervalo de estimativa, ao invés de apenas um número. Dessa forma, minimizamos a influência de agentes externos como a aleatoriedade, que pode nos dar um valor muito bom ou muito ruim, dependendo da sorte/azar."
      ]
    },
    {
      "cell_type": "code",
      "metadata": {
        "id": "FWEt7J8qp7hD"
      },
      "source": [
        "## Cross validate:\n",
        "\n",
        "def cross_validate_muda_params(seed = 1234, cv = 5):\n",
        "    np.random.seed(seed)\n",
        "\n",
        "    modelo = DecisionTreeClassifier(max_depth = 2)\n",
        "\n",
        "    resultados = cross_validate(modelo, x, y, cv = cv) # cv -> em quantos pedaços a validação será quebrada\n",
        "\n",
        "    resultados_teste = resultados['test_score']\n",
        "    media_teste = resultados_teste.mean()\n",
        "    desvio_padrao_teste = resultados_teste.std()\n",
        "    intervalo_acuracia = [media_teste-(2*desvio_padrao_teste), media_teste+(2*desvio_padrao_teste)]  # [media - 2*desvio_padrao, media + 2*Desvio Padrao]\n",
        "\n",
        "    print(\"Resultados parciais: \", resultados_teste)\n",
        "    print(\"Média: %.2f%%\" % (media_teste * 100))\n",
        "    print(\"Intervalo de acurácia: %.2f%% ~ %.2f%%\" % (intervalo_acuracia[0]*100, intervalo_acuracia[1]*100))"
      ],
      "execution_count": 3,
      "outputs": []
    },
    {
      "cell_type": "code",
      "metadata": {
        "colab": {
          "base_uri": "https://localhost:8080/"
        },
        "id": "kieJUBRywcFE",
        "outputId": "8513d9b1-fd6a-4515-84a6-80d18b807b1d"
      },
      "source": [
        "cross_validate_muda_params(1234, 5)"
      ],
      "execution_count": 4,
      "outputs": [
        {
          "output_type": "stream",
          "text": [
            "Resultados parciais:  [0.756  0.7565 0.7625 0.7545 0.7595]\n",
            "Média: 75.78%\n",
            "Intervalo de acurácia: 75.21% ~ 76.35%\n"
          ],
          "name": "stdout"
        }
      ]
    },
    {
      "cell_type": "code",
      "metadata": {
        "colab": {
          "base_uri": "https://localhost:8080/"
        },
        "id": "rQux__h9zncH",
        "outputId": "ca2e1ef1-467a-4553-81bd-6fb4106e5b81"
      },
      "source": [
        "cross_validate_muda_params(9876, 5)"
      ],
      "execution_count": 5,
      "outputs": [
        {
          "output_type": "stream",
          "text": [
            "Resultados parciais:  [0.756  0.7565 0.7625 0.7545 0.7595]\n",
            "Média: 75.78%\n",
            "Intervalo de acurácia: 75.21% ~ 76.35%\n"
          ],
          "name": "stdout"
        }
      ]
    },
    {
      "cell_type": "markdown",
      "metadata": {
        "id": "jF2zdzV1zsm1"
      },
      "source": [
        "Dessa forma, mesmo mudando o SEED, obtemos o mesmo intervalo de eficácia.\n",
        "\n",
        "Porém, ainda estamos suscetíveis a mudança por conta do número em que dividimos os dados (parâmetro cv do método cross_validate). Normalmente usa-se entre 5 e 10 cv, existem estudos científicos evidenciando esses valores."
      ]
    },
    {
      "cell_type": "code",
      "metadata": {
        "colab": {
          "base_uri": "https://localhost:8080/"
        },
        "id": "IVZ3CnwnzqGo",
        "outputId": "f584e4e9-8a34-4b00-d0c1-bf32566f8b8c"
      },
      "source": [
        "cross_validate_muda_params(9876, 10)"
      ],
      "execution_count": 6,
      "outputs": [
        {
          "output_type": "stream",
          "text": [
            "Resultados parciais:  [0.742 0.77  0.749 0.764 0.761 0.764 0.754 0.755 0.759 0.76 ]\n",
            "Média: 75.78%\n",
            "Intervalo de acurácia: 74.24% ~ 77.32%\n"
          ],
          "name": "stdout"
        }
      ]
    },
    {
      "cell_type": "markdown",
      "metadata": {
        "id": "kwhET-baHvkl"
      },
      "source": [
        "Por padrão, o algoritmo Cross Validate não embaralha os dados para fazer as divisões. Vamos implementar o embaralhamento utilizando o KFold:"
      ]
    },
    {
      "cell_type": "code",
      "metadata": {
        "colab": {
          "base_uri": "https://localhost:8080/"
        },
        "id": "smjiivUBH2Nk",
        "outputId": "8788fff6-05da-4f47-8f6f-34ba5abf0793"
      },
      "source": [
        "from sklearn.model_selection import KFold\n",
        "\n",
        "cv = KFold(n_splits = 10) # Sem embaralhamento\n",
        "\n",
        "cross_validate_muda_params(9876, cv) ## agora passamos um cross validator como cv, ao invés de um número"
      ],
      "execution_count": 7,
      "outputs": [
        {
          "output_type": "stream",
          "text": [
            "Resultados parciais:  [0.746 0.773 0.751 0.762 0.756 0.759 0.756 0.753 0.759 0.763]\n",
            "Média: 75.78%\n",
            "Intervalo de acurácia: 74.37% ~ 77.19%\n"
          ],
          "name": "stdout"
        }
      ]
    },
    {
      "cell_type": "code",
      "metadata": {
        "colab": {
          "base_uri": "https://localhost:8080/"
        },
        "id": "Iaruyil6IOfm",
        "outputId": "e8d85d96-393a-4053-c261-0aefe5e78b1a"
      },
      "source": [
        "cv = KFold(n_splits = 10, shuffle = True) # Com embaralhamento\n",
        "\n",
        "cross_validate_muda_params(9876, cv)"
      ],
      "execution_count": 8,
      "outputs": [
        {
          "output_type": "stream",
          "text": [
            "Resultados parciais:  [0.759 0.744 0.77  0.752 0.766 0.75  0.74  0.761 0.763 0.773]\n",
            "Média: 75.78%\n",
            "Intervalo de acurácia: 73.69% ~ 77.87%\n"
          ],
          "name": "stdout"
        }
      ]
    },
    {
      "cell_type": "markdown",
      "metadata": {
        "id": "bCOglwXYOGD5"
      },
      "source": [
        "# Simulação de uma situação ruim\n",
        "\n",
        "Pode ser 'azar' ou uma proporção de exemplos desbalanceada.\n",
        "\n",
        "Ex: Vamos ordenar o DF por vendido, dessa forma todos os carros vendidos estarão primeiro."
      ]
    },
    {
      "cell_type": "code",
      "metadata": {
        "id": "eoo9uuSyJWBs"
      },
      "source": [
        "def imprime_resultados(resultados):\n",
        "    resultados_teste = resultados['test_score']\n",
        "    media_teste = resultados_teste.mean()\n",
        "    desvio_padrao_teste = resultados_teste.std()\n",
        "    intervalo_acuracia = [media_teste-(2*desvio_padrao_teste), media_teste+(2*desvio_padrao_teste)]  # [media - 2*desvio_padrao, media + 2*Desvio Padrao]\n",
        "\n",
        "    print(\"Resultados parciais: \", resultados_teste)\n",
        "    print(\"Média: %.2f%%\" % (media_teste * 100))\n",
        "    print(\"Intervalo de acurácia: %.2f%% ~ %.2f%%\" % (intervalo_acuracia[0]*100, intervalo_acuracia[1]*100))"
      ],
      "execution_count": 9,
      "outputs": []
    },
    {
      "cell_type": "code",
      "metadata": {
        "id": "z1jIgkNC8vTy"
      },
      "source": [
        "# Sort dos dados por 'vendido' e separação do x e y\n",
        "\n",
        "dados_azar = dados.sort_values(\"vendido\", ascending=True)\n",
        "\n",
        "x_azar = dados_azar[['preco','idade_do_modelo','km_por_ano']]\n",
        "y_azar = dados_azar['vendido']"
      ],
      "execution_count": 10,
      "outputs": []
    },
    {
      "cell_type": "code",
      "metadata": {
        "colab": {
          "base_uri": "https://localhost:8080/"
        },
        "id": "XJFplfqXOh4C",
        "outputId": "dafba408-7173-448c-b62f-dfd245c4ef8b"
      },
      "source": [
        "modelo_azar = DecisionTreeClassifier(max_depth = 2)\n",
        "\n",
        "cv = KFold(n_splits = 10) ## Sem embaralhar\n",
        "resultados_azar = cross_validate(modelo_azar, x_azar, y_azar, cv = cv) # cv -> em quantos pedaços a validação será quebrada\n",
        "\n",
        "imprime_resultados(resultados_azar)\n",
        "\n",
        "# Resultados parciais:  [0.447 0.409 0.438 0.446 0.694 0.663 0.668 0.673 0.67  0.676]\n",
        "# Média: 57.84%\n",
        "# Intervalo de acurácia: 34.29% ~ 81.39%"
      ],
      "execution_count": 11,
      "outputs": [
        {
          "output_type": "stream",
          "text": [
            "Resultados parciais:  [0.447 0.409 0.438 0.446 0.694 0.663 0.668 0.673 0.67  0.676]\n",
            "Média: 57.84%\n",
            "Intervalo de acurácia: 34.29% ~ 81.39%\n"
          ],
          "name": "stdout"
        }
      ]
    },
    {
      "cell_type": "markdown",
      "metadata": {
        "id": "ygj57MUKQEXW"
      },
      "source": [
        "Como pode ser visto, a média de acurácia ficou em 57%, bem abaixo da anterior. Rodando novamente, mas com os dados embaralhados, voltamos a média normal:"
      ]
    },
    {
      "cell_type": "code",
      "metadata": {
        "colab": {
          "base_uri": "https://localhost:8080/"
        },
        "id": "Evx1HWWPPvET",
        "outputId": "ab46e1e8-79d5-4bc6-eb93-80ef35a08761"
      },
      "source": [
        "modelo_azar = DecisionTreeClassifier(max_depth = 2)\n",
        "\n",
        "cv = KFold(n_splits = 10, shuffle = True) ## Embaralhar\n",
        "resultados_azar = cross_validate(modelo_azar, x_azar, y_azar, cv = cv) # cv -> em quantos pedaços a validação será quebrada\n",
        "\n",
        "imprime_resultados(resultados_azar)\n",
        "\n",
        "# Resultados parciais:  [0.746 0.759 0.745 0.747 0.766 0.777 0.749 0.74  0.78  0.769]\n",
        "# Média: 75.78%\n",
        "# Intervalo de acurácia: 73.05% ~ 78.51%"
      ],
      "execution_count": 12,
      "outputs": [
        {
          "output_type": "stream",
          "text": [
            "Resultados parciais:  [0.746 0.759 0.745 0.747 0.766 0.777 0.749 0.74  0.78  0.769]\n",
            "Média: 75.78%\n",
            "Intervalo de acurácia: 73.05% ~ 78.51%\n"
          ],
          "name": "stdout"
        }
      ]
    },
    {
      "cell_type": "markdown",
      "metadata": {
        "id": "Wn-NBC4MQy72"
      },
      "source": [
        "Existe também o Stratified KFold, para manter as proporções entre os pedaços de dados.\n",
        "\n",
        "- Se no total existem 70% de carros vendidos, nas partes também terá 70% de carros vendidos, e etc.\n",
        "- Bastante usado quando existe muita diferença entre as classes de dados."
      ]
    },
    {
      "cell_type": "code",
      "metadata": {
        "colab": {
          "base_uri": "https://localhost:8080/"
        },
        "id": "VTvsJbciQXbi",
        "outputId": "7ba0f7bd-b2c7-4ae0-aebb-1a8ff643157f"
      },
      "source": [
        "from sklearn.model_selection import StratifiedKFold\n",
        "\n",
        "modelo_azar = DecisionTreeClassifier(max_depth = 2)\n",
        "\n",
        "cv = StratifiedKFold(n_splits = 10, shuffle = True) ## Embaralhar\n",
        "resultados_azar = cross_validate(modelo_azar, x_azar, y_azar, cv = cv) # cv -> em quantos pedaços a validação será quebrada\n",
        "\n",
        "imprime_resultados(resultados_azar)\n",
        "\n",
        "# Resultados parciais:  [0.75  0.766 0.762 0.745 0.744 0.742 0.753 0.783 0.759 0.772]\n",
        "# Média: 75.76%\n",
        "# Intervalo de acurácia: 73.22% ~ 78.30%"
      ],
      "execution_count": 13,
      "outputs": [
        {
          "output_type": "stream",
          "text": [
            "Resultados parciais:  [0.771 0.779 0.754 0.746 0.756 0.755 0.736 0.746 0.755 0.78 ]\n",
            "Média: 75.78%\n",
            "Intervalo de acurácia: 73.02% ~ 78.54%\n"
          ],
          "name": "stdout"
        }
      ]
    },
    {
      "cell_type": "markdown",
      "metadata": {
        "id": "vIDgeuAdlqr-"
      },
      "source": [
        "No mundo real, dificilmente teremos uma situação em que um dado novo surge e é muito parecido com algum dado de teste. Por exemplo, os algoritmos KFold dividem os grupos de treino e teste estratificando as classes, ou seja, mantendo as proporções para cada grupo (% de vendidos é igual para teste e treino).\n",
        "\n",
        "- Em resumo, dificilmente os dados do mundo real são estraficados e embaralhados.\n",
        "\n",
        "Nesse contexto, podemos utilziar o Group KFold, que irá dividir por grupos. Esse algoritmo necessita saber qual feature será usada para dividir os grupos. Esse parâmetro é o groups do método cross_validate:"
      ]
    },
    {
      "cell_type": "code",
      "metadata": {
        "id": "5Uqjmh987LXE",
        "colab": {
          "base_uri": "https://localhost:8080/"
        },
        "outputId": "2daa71e5-1088-4c1a-c64b-c3b50e61b82e"
      },
      "source": [
        "from sklearn.model_selection import GroupKFold\n",
        "\n",
        "SEED = 301\n",
        "np.random.seed(SEED)\n",
        "\n",
        "cv = GroupKFold(n_splits = 10)\n",
        "modelo = DecisionTreeClassifier(max_depth = 2)\n",
        "resultados = cross_validate(modelo, x_azar, y_azar, cv = cv, groups = dados.idade_do_modelo)\n",
        "\n",
        "imprime_resultados(resultados)"
      ],
      "execution_count": 19,
      "outputs": [
        {
          "output_type": "stream",
          "text": [
            "Resultados parciais:  [0.7586548  0.78389399 0.76394422 0.73635427 0.7560241  0.76626016\n",
            " 0.73207171 0.76525336 0.7589545  0.75691134]\n",
            "Média: 75.78%\n",
            "Intervalo de acurácia: 72.97% ~ 78.59%\n"
          ],
          "name": "stdout"
        }
      ]
    },
    {
      "cell_type": "markdown",
      "metadata": {
        "id": "qKzMfricq9nY"
      },
      "source": [
        "# Pipeline de pré-processamento e validação\n",
        "\n",
        "Com modelos sensíveis a escala dos dados (como o SVC) temos que usar um scaler. Porém, todo split que o KFold fizer, deve ser processador os dados no scaler e rodada a validação novamente.\n",
        "\n",
        "Isso pode ser feito através do Pipeline:"
      ]
    },
    {
      "cell_type": "code",
      "metadata": {
        "colab": {
          "base_uri": "https://localhost:8080/"
        },
        "id": "lxGPKLzWncA2",
        "outputId": "a271c910-6b90-44cf-e2fc-71ab637bccfa"
      },
      "source": [
        "from sklearn.pipeline import Pipeline\n",
        "from sklearn.preprocessing import StandardScaler\n",
        "from sklearn.svm import SVC\n",
        "\n",
        "np.random.seed(301)\n",
        "\n",
        "scaler = StandardScaler()\n",
        "modelo = SVC()\n",
        "\n",
        "pipeline = Pipeline([('transformacao', scaler), ('estimador', modelo)]) ## Para cada split do KFold, o pipeline irá todar tanto o scaler quanto o estimador\n",
        "\n",
        "cv = GroupKFold(n_splits = 10)\n",
        "resultados = cross_validate(pipeline, x_azar, y_azar, cv = cv, groups = dados.idade_do_modelo)\n",
        "\n",
        "imprime_resultados(resultados)"
      ],
      "execution_count": 25,
      "outputs": [
        {
          "output_type": "stream",
          "text": [
            "Resultados parciais:  [0.76063304 0.77573904 0.78784861 0.73944387 0.76907631 0.7754065\n",
            " 0.7689243  0.76525336 0.76089061 0.7607245 ]\n",
            "Média: 76.64%\n",
            "Intervalo de acurácia: 74.22% ~ 79.06%\n"
          ],
          "name": "stdout"
        }
      ]
    },
    {
      "cell_type": "markdown",
      "metadata": {
        "id": "4QD1BjcTuzfA"
      },
      "source": [
        "# Conclusão\n",
        "\n",
        "A média e o intervalo providos pela validação cruzada diz o quão bem você espera que o modelo se comporte com dados previamente desconhecidos mas... se você usou cross validation com 10 folds, qual dos 10 modelos treinados você vai usar agora no mundo real?\n",
        "\n",
        "A ideia é que a validação cruzada num conjunto de dados **somente te diz o que você pode esperar. Ela não treina o seu modelo final**. Para isso, basta treinar o modelo com todos os dados normalmente:\n",
        "\n",
        "modelo.fit(x, y)"
      ]
    },
    {
      "cell_type": "code",
      "metadata": {
        "id": "wRMUkhOcs6ee"
      },
      "source": [
        ""
      ],
      "execution_count": null,
      "outputs": []
    }
  ]
}