{
  "nbformat": 4,
  "nbformat_minor": 0,
  "metadata": {
    "colab": {
      "name": "Otimização de Modelos.ipynb",
      "provenance": []
    },
    "kernelspec": {
      "name": "python3",
      "display_name": "Python 3"
    },
    "language_info": {
      "name": "python"
    }
  },
  "cells": [
    {
      "cell_type": "markdown",
      "metadata": {
        "id": "iMf9m69NzAL6"
      },
      "source": [
        "# Hiperparâmetros\n",
        "\n",
        "São os parâmetros do modelo fornecidos antes do treino. Como na Decision Tree, o parâmetro max depth é um hiperparametro.\n",
        "\n",
        "Aqui vamos ver como otimizá-los."
      ]
    },
    {
      "cell_type": "code",
      "metadata": {
        "id": "XAW1ugkJ5Hzo"
      },
      "source": [
        "!pip install graphviz==0.9\n",
        "!pip install pydot\n",
        "\n",
        "!apt-get install graphviz"
      ],
      "execution_count": null,
      "outputs": []
    },
    {
      "cell_type": "code",
      "metadata": {
        "id": "zfHSG3B0zcOZ"
      },
      "source": [
        "import pandas as pd\n",
        "import numpy as np\n",
        "\n",
        "uri = \"https://gist.githubusercontent.com/guilhermesilveira/e99a526b2e7ccc6c3b70f53db43a87d2/raw/1605fc74aa778066bf2e6695e24d53cf65f2f447/machine-learning-carros-simulacao.csv\"\n",
        "\n",
        "dados = pd.read_csv(uri).drop(columns=[\"Unnamed: 0\"], axis=1)"
      ],
      "execution_count": 2,
      "outputs": []
    },
    {
      "cell_type": "code",
      "metadata": {
        "id": "MxCHjrwX1lrf"
      },
      "source": [
        "# Situação de 'azar' onde as classes estão ordenadas por padrão\n",
        "# - isso causaria uma acurácia muito ruim caso fossem feitos treino e teste normais\n",
        "\n",
        "dados_azar = dados.sort_values('vendido', ascending = True)\n",
        "dados_azar.head()\n",
        "\n",
        "x_azar = dados_azar[['preco', 'idade_do_modelo', 'km_por_ano']]\n",
        "y_azar = dados_azar['vendido']"
      ],
      "execution_count": 3,
      "outputs": []
    },
    {
      "cell_type": "markdown",
      "metadata": {
        "id": "nxdu8tfe8yi6"
      },
      "source": [
        "# Avaliação do parâmetro Max Depth no Decision Tree\n",
        "\n",
        "Primeiro, rodaremos o modelo com profundidade de 2, em seguida comparamos com outros valores de profundidade:"
      ]
    },
    {
      "cell_type": "code",
      "metadata": {
        "id": "XD4ivH566blQ"
      },
      "source": [
        "from sklearn.model_selection import cross_validate\n",
        "from sklearn.model_selection import KFold, GroupKFold\n",
        "from sklearn.tree import DecisionTreeClassifier\n",
        "from sklearn.tree import export_graphviz\n",
        "import graphviz\n",
        "\n",
        "np.random.seed(1234)\n",
        "\n",
        "# definição da função onde faz o cross validate recebendo o modelo e os dados\n",
        "# e imprime os resultados\n",
        "def imprime_resultados(modelo, x, y):\n",
        "\n",
        "    cv = KFold(n_splits = 10, shuffle = True)\n",
        "    resultados = cross_validate(modelo, x, y, cv = cv)\n",
        "\n",
        "    resultados_teste = resultados['test_score']\n",
        "    media_teste = resultados_teste.mean()\n",
        "    desvio_padrao_teste = resultados_teste.std()\n",
        "    intervalo_acuracia = [media_teste-(2*desvio_padrao_teste), media_teste+(2*desvio_padrao_teste)]\n",
        "\n",
        "    print(\"Resultados parciais: \", resultados_teste)\n",
        "    print(\"Média de acurácia: %.2f%%\" % (media_teste * 100))\n",
        "    print(\"Intervalo de acurácia: %.2f%% ~ %.2f%%\" % (intervalo_acuracia[0]*100, intervalo_acuracia[1]*100))\n",
        "\n",
        "# Definição da função que recebe um DecisionTree e desenha o gráfico de decisão\n",
        "def desenha_arvore_decisao(modelo, x, y):\n",
        "\n",
        "    modelo.fit(x, y)\n",
        "\n",
        "    features = x.columns\n",
        "    dot_data = export_graphviz(modelo, out_file = None, \n",
        "                                filled = True, rounded = True, class_names = ['nao','sim'], \n",
        "                                feature_names = features)\n",
        "    grafico = graphviz.Source(dot_data)\n",
        "    return grafico\n",
        "\n",
        "def roda_decision_tree(pmax_depth = 1, pmin_samples_leaf = 1):\n",
        "\n",
        "    np.random.seed(301)\n",
        "\n",
        "    modelo = DecisionTreeClassifier(max_depth = pmax_depth, min_samples_leaf = pmin_samples_leaf)\n",
        "\n",
        "    cv = KFold(n_splits = 10, shuffle = True)\n",
        "    resultados = cross_validate(modelo, x_azar, y_azar, cv = cv, return_train_score = True)\n",
        "\n",
        "    fit_time = resultados['fit_time'].mean()\n",
        "    score_time = resultados['score_time'].mean()\n",
        "    media_teste = resultados['test_score'].mean()\n",
        "    media_treino = resultados['train_score'].mean()\n",
        "\n",
        "    #print(\"Max Depth: %d, Treino: %.2f%%, Teste: %.2f%%\" % (max_depth, media_treino * 100, media_teste * 100))\n",
        "\n",
        "    tabela = [pmax_depth, pmin_samples_leaf, media_treino, media_teste, fit_time, score_time] # retorna uma tabela com os 3 valores\n",
        "    return tabela"
      ],
      "execution_count": 4,
      "outputs": []
    },
    {
      "cell_type": "code",
      "metadata": {
        "colab": {
          "base_uri": "https://localhost:8080/"
        },
        "id": "sAOPKryj8cyw",
        "outputId": "738e0472-29d7-4585-c57a-bbd057cad3fc"
      },
      "source": [
        "# Primeiro teste com profundidade = 2\n",
        "\n",
        "profundidade = 2\n",
        "modelo = DecisionTreeClassifier(max_depth = profundidade)\n",
        "\n",
        "print(\"Resultados com profundidade\", profundidade)\n",
        "imprime_resultados(modelo, x_azar, y_azar)\n",
        "\n",
        "# Média de acurácia: 75.78%\n",
        "# Intervalo de acurácia: 73.06% ~ 78.50%"
      ],
      "execution_count": 5,
      "outputs": [
        {
          "output_type": "stream",
          "text": [
            "Resultados com profundidade 2\n",
            "Resultados parciais:  [0.744 0.731 0.757 0.759 0.759 0.76  0.755 0.786 0.769 0.758]\n",
            "Média de acurácia: 75.78%\n",
            "Intervalo de acurácia: 73.06% ~ 78.50%\n"
          ],
          "name": "stdout"
        }
      ]
    },
    {
      "cell_type": "code",
      "metadata": {
        "colab": {
          "base_uri": "https://localhost:8080/"
        },
        "id": "1OKHAs3T93y1",
        "outputId": "0923b9e2-8e45-42cf-dcee-271b2e99609e"
      },
      "source": [
        "# Segundo teste com profundidade = 3\n",
        "\n",
        "profundidade = 3\n",
        "modelo = DecisionTreeClassifier(max_depth = profundidade)\n",
        "\n",
        "print(\"Resuntados com profundidade\", profundidade)\n",
        "imprime_resultados(modelo, x_azar, y_azar)\n",
        "\n",
        "# Média de acurácia: 78.70%\n",
        "# Intervalo de acurácia: 75.78% ~ 81.62%"
      ],
      "execution_count": 6,
      "outputs": [
        {
          "output_type": "stream",
          "text": [
            "Resuntados com profundidade 3\n",
            "Resultados parciais:  [0.785 0.769 0.763 0.783 0.815 0.781 0.792 0.79  0.786 0.806]\n",
            "Média de acurácia: 78.70%\n",
            "Intervalo de acurácia: 75.78% ~ 81.62%\n"
          ],
          "name": "stdout"
        }
      ]
    },
    {
      "cell_type": "markdown",
      "metadata": {
        "id": "tQJkF2NR_0_c"
      },
      "source": [
        "Como pode ser visto, o resultado com profundidade 3 foi melhor do que com profundidade 2. Será que então quanto maior a profundidade da árvore, melhor o resultado?\n",
        "\n",
        "Vamos testar com profundidade 10:"
      ]
    },
    {
      "cell_type": "code",
      "metadata": {
        "colab": {
          "base_uri": "https://localhost:8080/"
        },
        "id": "1OFTKwfw_jRq",
        "outputId": "edb5e186-aff5-407b-f77b-ba7cb1041f1f"
      },
      "source": [
        "# Segundo teste com profundidade = 10\n",
        "\n",
        "profundidade = 10\n",
        "modelo = DecisionTreeClassifier(max_depth = profundidade)\n",
        "\n",
        "print(\"Resuntados com profundidade\", profundidade)\n",
        "imprime_resultados(modelo, x_azar, y_azar)\n",
        "\n",
        "# Média de acurácia: 77.42%\n",
        "# Intervalo de acurácia: 74.24% ~ 80.60%"
      ],
      "execution_count": 7,
      "outputs": [
        {
          "output_type": "stream",
          "text": [
            "Resuntados com profundidade 10\n",
            "Resultados parciais:  [0.746 0.774 0.766 0.785 0.785 0.783 0.782 0.799 0.748 0.774]\n",
            "Média de acurácia: 77.42%\n",
            "Intervalo de acurácia: 74.24% ~ 80.60%\n"
          ],
          "name": "stdout"
        }
      ]
    },
    {
      "cell_type": "markdown",
      "metadata": {
        "id": "bPytDBBwALaE"
      },
      "source": [
        "O resultado com 10 níveis de decisão foi pior do que com 3 níveis. Dessa forma, podemos ver que não necessariamente mais níveis nos dará melhores resultados. Isso se aplica a qualquer parâmetro de qualquer modelo parametrizável, por exemplo o DecisionTree e o SVC.\n",
        "\n",
        "O que está acontecendo é o overfitting, o modelo está tão perfeito para os dados de teste que não consegue prever os resultados para os dados de treino. Ou seja, não está genérico o suficiente a ponto de prever corretamente dados diferentes:"
      ]
    },
    {
      "cell_type": "code",
      "metadata": {
        "id": "ln3zVKzvAIMp",
        "colab": {
          "base_uri": "https://localhost:8080/",
          "height": 206
        },
        "outputId": "2149037e-5a69-4d42-9841-7f57551be6a5"
      },
      "source": [
        "resultados = [roda_decision_tree(pmax_depth = i) for i in range(1, 36)] # resultados recebe os dados de cada iteração i em forma de lista\n",
        "\n",
        "\"\"\"\n",
        "Max Depth: 1, Treino: 75.79%, Teste: 75.78%\n",
        "Max Depth: 2, Treino: 75.79%, Teste: 75.78%\n",
        "Max Depth: 3, Treino: 78.75%, Teste: 78.70%\n",
        "Max Depth: 4, Treino: 78.79%, Teste: 78.64%\n",
        "Max Depth: 5, Treino: 78.97%, Teste: 78.56%\n",
        "Max Depth: 6, Treino: 79.15%, Teste: 78.41%\n",
        "Max Depth: 7, Treino: 79.47%, Teste: 78.13%\n",
        "Max Depth: 8, Treino: 79.88%, Teste: 77.77%\n",
        "Max Depth: 9, Treino: 80.41%, Teste: 77.15%\n",
        "...\n",
        "Max Depth: 17, Treino: 87.96%, Teste: 74.43%\n",
        "Max Depth: 18, Treino: 89.63%, Teste: 74.13%\n",
        "Max Depth: 19, Treino: 90.58%, Teste: 73.72%\n",
        "Max Depth: 20, Treino: 90.53%, Teste: 73.44%\n",
        "\"\"\"\n",
        "\n",
        "df_resultados = pd.DataFrame(resultados, columns=['max_depth', 'min_samples_leaf', 'score_treino', 'score_teste', 'fit_time', 'score_time'])\n",
        "df_resultados.head()"
      ],
      "execution_count": 8,
      "outputs": [
        {
          "output_type": "execute_result",
          "data": {
            "text/html": [
              "<div>\n",
              "<style scoped>\n",
              "    .dataframe tbody tr th:only-of-type {\n",
              "        vertical-align: middle;\n",
              "    }\n",
              "\n",
              "    .dataframe tbody tr th {\n",
              "        vertical-align: top;\n",
              "    }\n",
              "\n",
              "    .dataframe thead th {\n",
              "        text-align: right;\n",
              "    }\n",
              "</style>\n",
              "<table border=\"1\" class=\"dataframe\">\n",
              "  <thead>\n",
              "    <tr style=\"text-align: right;\">\n",
              "      <th></th>\n",
              "      <th>max_depth</th>\n",
              "      <th>min_samples_leaf</th>\n",
              "      <th>score_treino</th>\n",
              "      <th>score_teste</th>\n",
              "      <th>fit_time</th>\n",
              "      <th>score_time</th>\n",
              "    </tr>\n",
              "  </thead>\n",
              "  <tbody>\n",
              "    <tr>\n",
              "      <th>0</th>\n",
              "      <td>1</td>\n",
              "      <td>1</td>\n",
              "      <td>0.757911</td>\n",
              "      <td>0.7578</td>\n",
              "      <td>0.004590</td>\n",
              "      <td>0.000960</td>\n",
              "    </tr>\n",
              "    <tr>\n",
              "      <th>1</th>\n",
              "      <td>2</td>\n",
              "      <td>1</td>\n",
              "      <td>0.757911</td>\n",
              "      <td>0.7578</td>\n",
              "      <td>0.006656</td>\n",
              "      <td>0.000863</td>\n",
              "    </tr>\n",
              "    <tr>\n",
              "      <th>2</th>\n",
              "      <td>3</td>\n",
              "      <td>1</td>\n",
              "      <td>0.787567</td>\n",
              "      <td>0.7869</td>\n",
              "      <td>0.008855</td>\n",
              "      <td>0.000947</td>\n",
              "    </tr>\n",
              "    <tr>\n",
              "      <th>3</th>\n",
              "      <td>4</td>\n",
              "      <td>1</td>\n",
              "      <td>0.787944</td>\n",
              "      <td>0.7859</td>\n",
              "      <td>0.010843</td>\n",
              "      <td>0.000912</td>\n",
              "    </tr>\n",
              "    <tr>\n",
              "      <th>4</th>\n",
              "      <td>5</td>\n",
              "      <td>1</td>\n",
              "      <td>0.789411</td>\n",
              "      <td>0.7855</td>\n",
              "      <td>0.012214</td>\n",
              "      <td>0.000868</td>\n",
              "    </tr>\n",
              "  </tbody>\n",
              "</table>\n",
              "</div>"
            ],
            "text/plain": [
              "   max_depth  min_samples_leaf  score_treino  score_teste  fit_time  score_time\n",
              "0          1                 1      0.757911       0.7578  0.004590    0.000960\n",
              "1          2                 1      0.757911       0.7578  0.006656    0.000863\n",
              "2          3                 1      0.787567       0.7869  0.008855    0.000947\n",
              "3          4                 1      0.787944       0.7859  0.010843    0.000912\n",
              "4          5                 1      0.789411       0.7855  0.012214    0.000868"
            ]
          },
          "metadata": {},
          "execution_count": 8
        }
      ]
    },
    {
      "cell_type": "code",
      "metadata": {
        "colab": {
          "base_uri": "https://localhost:8080/",
          "height": 406
        },
        "id": "Aizd5fGC8daa",
        "outputId": "c0b153b7-5c28-4ee5-91ac-e2a10ea3a17b"
      },
      "source": [
        "import seaborn as sns\n",
        "import matplotlib.pyplot as plt\n",
        "\n",
        "plt.figure(figsize=(10,6))\n",
        "sns.lineplot(x = 'max_depth', y = 'score_treino', data = df_resultados)\n",
        "sns.lineplot(x = 'max_depth', y = 'score_teste', data = df_resultados)\n",
        "plt.legend([\"Treino\",\"Teste\"])\n",
        "plt.xlabel('Max Depth')\n",
        "plt.ylabel('Score')"
      ],
      "execution_count": 9,
      "outputs": [
        {
          "output_type": "execute_result",
          "data": {
            "text/plain": [
              "Text(0, 0.5, 'Score')"
            ]
          },
          "metadata": {},
          "execution_count": 9
        },
        {
          "output_type": "display_data",
          "data": {
            "image/png": "[encoded data removed]",
            "text/plain": [
              "<Figure size 720x432 with 1 Axes>"
            ]
          },
          "metadata": {
            "needs_background": "light"
          }
        }
      ]
    },
    {
      "cell_type": "markdown",
      "metadata": {
        "id": "ks496k9P4ro9"
      },
      "source": [
        "Como pode ser visto, quando maior o score de treino, pior o score de teste, isso se dá por conta do overfitting do modelo para os dados de treino.\n",
        "\n",
        "**Como podemos parametrizar nossos modelos de forma a otimizar os resultados?**\n",
        "\n",
        "O método de rodar o modelo variando o hiperparâmetro é uma boa escolha, como no nosso exemplo, vimos que Max Depth = 3 é o valor ótimo da nossa Decision Tree.\n",
        "\n",
        "Um modelo pode ter vários hiperparâmetros, outro presente na Decision Tree é o Min Samples Leaf, na qual especifica a quantidade minima de samples na folha da árvore. Como padrão esse valor é 1, porém uma árvore com 1 valor em cada folha é uma árvore completamente específica, ou seja, uma árvore com overfitting.\n",
        "\n",
        "Podemos verificar a quantidade de samples nas folhas através na visualização da árvore de decisão:"
      ]
    },
    {
      "cell_type": "code",
      "metadata": {
        "id": "kej6whKf2_yr",
        "colab": {
          "base_uri": "https://localhost:8080/",
          "height": 598
        },
        "outputId": "36d2bcd1-c198-4c9f-8061-0920bd46acf2"
      },
      "source": [
        "modelo = DecisionTreeClassifier(max_depth = 3)\n",
        "grafico = desenha_arvore_decisao(modelo, x_azar, y_azar)\n",
        "grafico"
      ],
      "execution_count": 10,
      "outputs": [
        {
          "output_type": "execute_result",
          "data": {
            "text/plain": [
              "<graphviz.files.Source at 0x7fa0ce89f550>"
            ],
            "image/svg+xml": "<?xml version=\"1.0\" encoding=\"UTF-8\" standalone=\"no\"?>\n<!DOCTYPE svg PUBLIC \"-//W3C//DTD SVG 1.1//EN\"\n \"http://www.w3.org/Graphics/SVG/1.1/DTD/svg11.dtd\">\n<!-- Generated by graphviz version 2.40.1 (20161225.0304)\n -->\n<!-- Title: Tree Pages: 1 -->\n<svg width=\"912pt\" height=\"433pt\"\n viewBox=\"0.00 0.00 912.00 433.00\" xmlns=\"http://www.w3.org/2000/svg\" xmlns:xlink=\"http://www.w3.org/1999/xlink\">\n<g id=\"graph0\" class=\"graph\" transform=\"scale(1 1) rotate(0) translate(4 429)\">\n<title>Tree</title>\n<polygon fill=\"#ffffff\" stroke=\"transparent\" points=\"-4,4 -4,-429 908,-429 908,4 -4,4\"/>\n<!-- 0 -->\n<g id=\"node1\" class=\"node\">\n<title>0</title>\n<path fill=\"#c8e4f8\" stroke=\"#000000\" d=\"M372.5,-425C372.5,-425 247.5,-425 247.5,-425 241.5,-425 235.5,-419 235.5,-413 235.5,-413 235.5,-354 235.5,-354 235.5,-348 241.5,-342 247.5,-342 247.5,-342 372.5,-342 372.5,-342 378.5,-342 384.5,-348 384.5,-354 384.5,-354 384.5,-413 384.5,-413 384.5,-419 378.5,-425 372.5,-425\"/>\n<text text-anchor=\"middle\" x=\"310\" y=\"-409.8\" font-family=\"Helvetica,sans-Serif\" font-size=\"14.00\" fill=\"#000000\">preco &lt;= 59982.246</text>\n<text text-anchor=\"middle\" x=\"310\" y=\"-394.8\" font-family=\"Helvetica,sans-Serif\" font-size=\"14.00\" fill=\"#000000\">gini = 0.487</text>\n<text text-anchor=\"middle\" x=\"310\" y=\"-379.8\" font-family=\"Helvetica,sans-Serif\" font-size=\"14.00\" fill=\"#000000\">samples = 10000</text>\n<text text-anchor=\"middle\" x=\"310\" y=\"-364.8\" font-family=\"Helvetica,sans-Serif\" font-size=\"14.00\" fill=\"#000000\">value = [4200, 5800]</text>\n<text text-anchor=\"middle\" x=\"310\" y=\"-349.8\" font-family=\"Helvetica,sans-Serif\" font-size=\"14.00\" fill=\"#000000\">class = sim</text>\n</g>\n<!-- 1 -->\n<g id=\"node2\" class=\"node\">\n<title>1</title>\n<path fill=\"#52a9e8\" stroke=\"#000000\" d=\"M277.5,-306C277.5,-306 154.5,-306 154.5,-306 148.5,-306 142.5,-300 142.5,-294 142.5,-294 142.5,-235 142.5,-235 142.5,-229 148.5,-223 154.5,-223 154.5,-223 277.5,-223 277.5,-223 283.5,-223 289.5,-229 289.5,-235 289.5,-235 289.5,-294 289.5,-294 289.5,-300 283.5,-306 277.5,-306\"/>\n<text text-anchor=\"middle\" x=\"216\" y=\"-290.8\" font-family=\"Helvetica,sans-Serif\" font-size=\"14.00\" fill=\"#000000\">preco &lt;= 40083.385</text>\n<text text-anchor=\"middle\" x=\"216\" y=\"-275.8\" font-family=\"Helvetica,sans-Serif\" font-size=\"14.00\" fill=\"#000000\">gini = 0.198</text>\n<text text-anchor=\"middle\" x=\"216\" y=\"-260.8\" font-family=\"Helvetica,sans-Serif\" font-size=\"14.00\" fill=\"#000000\">samples = 4347</text>\n<text text-anchor=\"middle\" x=\"216\" y=\"-245.8\" font-family=\"Helvetica,sans-Serif\" font-size=\"14.00\" fill=\"#000000\">value = [484, 3863]</text>\n<text text-anchor=\"middle\" x=\"216\" y=\"-230.8\" font-family=\"Helvetica,sans-Serif\" font-size=\"14.00\" fill=\"#000000\">class = sim</text>\n</g>\n<!-- 0&#45;&gt;1 -->\n<g id=\"edge1\" class=\"edge\">\n<title>0&#45;&gt;1</title>\n<path fill=\"none\" stroke=\"#000000\" d=\"M277.1234,-341.8796C270.0803,-332.9633 262.5707,-323.4565 255.3126,-314.268\"/>\n<polygon fill=\"#000000\" stroke=\"#000000\" points=\"257.9621,-311.9757 249.017,-306.2981 252.4691,-316.3147 257.9621,-311.9757\"/>\n<text text-anchor=\"middle\" x=\"246.1027\" y=\"-327.4276\" font-family=\"Helvetica,sans-Serif\" font-size=\"14.00\" fill=\"#000000\">True</text>\n</g>\n<!-- 6 -->\n<g id=\"node7\" class=\"node\">\n<title>6</title>\n<path fill=\"#f3c3a0\" stroke=\"#000000\" d=\"M545,-306C545,-306 377,-306 377,-306 371,-306 365,-300 365,-294 365,-294 365,-235 365,-235 365,-229 371,-223 377,-223 377,-223 545,-223 545,-223 551,-223 557,-229 557,-235 557,-235 557,-294 557,-294 557,-300 551,-306 545,-306\"/>\n<text text-anchor=\"middle\" x=\"461\" y=\"-290.8\" font-family=\"Helvetica,sans-Serif\" font-size=\"14.00\" fill=\"#000000\">km_por_ano &lt;= 24124.006</text>\n<text text-anchor=\"middle\" x=\"461\" y=\"-275.8\" font-family=\"Helvetica,sans-Serif\" font-size=\"14.00\" fill=\"#000000\">gini = 0.45</text>\n<text text-anchor=\"middle\" x=\"461\" y=\"-260.8\" font-family=\"Helvetica,sans-Serif\" font-size=\"14.00\" fill=\"#000000\">samples = 5653</text>\n<text text-anchor=\"middle\" x=\"461\" y=\"-245.8\" font-family=\"Helvetica,sans-Serif\" font-size=\"14.00\" fill=\"#000000\">value = [3716, 1937]</text>\n<text text-anchor=\"middle\" x=\"461\" y=\"-230.8\" font-family=\"Helvetica,sans-Serif\" font-size=\"14.00\" fill=\"#000000\">class = nao</text>\n</g>\n<!-- 0&#45;&gt;6 -->\n<g id=\"edge6\" class=\"edge\">\n<title>0&#45;&gt;6</title>\n<path fill=\"none\" stroke=\"#000000\" d=\"M362.8125,-341.8796C374.8818,-332.368 387.8039,-322.1843 400.1788,-312.432\"/>\n<polygon fill=\"#000000\" stroke=\"#000000\" points=\"402.5296,-315.0356 408.2173,-306.0969 398.1968,-309.5377 402.5296,-315.0356\"/>\n<text text-anchor=\"middle\" x=\"405.275\" y=\"-327.2232\" font-family=\"Helvetica,sans-Serif\" font-size=\"14.00\" fill=\"#000000\">False</text>\n</g>\n<!-- 2 -->\n<g id=\"node3\" class=\"node\">\n<title>2</title>\n<path fill=\"#399de5\" stroke=\"#000000\" d=\"M112,-179.5C112,-179.5 12,-179.5 12,-179.5 6,-179.5 0,-173.5 0,-167.5 0,-167.5 0,-123.5 0,-123.5 0,-117.5 6,-111.5 12,-111.5 12,-111.5 112,-111.5 112,-111.5 118,-111.5 124,-117.5 124,-123.5 124,-123.5 124,-167.5 124,-167.5 124,-173.5 118,-179.5 112,-179.5\"/>\n<text text-anchor=\"middle\" x=\"62\" y=\"-164.3\" font-family=\"Helvetica,sans-Serif\" font-size=\"14.00\" fill=\"#000000\">gini = 0.0</text>\n<text text-anchor=\"middle\" x=\"62\" y=\"-149.3\" font-family=\"Helvetica,sans-Serif\" font-size=\"14.00\" fill=\"#000000\">samples = 1935</text>\n<text text-anchor=\"middle\" x=\"62\" y=\"-134.3\" font-family=\"Helvetica,sans-Serif\" font-size=\"14.00\" fill=\"#000000\">value = [0, 1935]</text>\n<text text-anchor=\"middle\" x=\"62\" y=\"-119.3\" font-family=\"Helvetica,sans-Serif\" font-size=\"14.00\" fill=\"#000000\">class = sim</text>\n</g>\n<!-- 1&#45;&gt;2 -->\n<g id=\"edge2\" class=\"edge\">\n<title>1&#45;&gt;2</title>\n<path fill=\"none\" stroke=\"#000000\" d=\"M162.1383,-222.8796C146.7696,-211.0038 130.0453,-198.0804 114.7441,-186.2568\"/>\n<polygon fill=\"#000000\" stroke=\"#000000\" points=\"116.4605,-183.1599 106.4076,-179.8149 112.1804,-188.699 116.4605,-183.1599\"/>\n</g>\n<!-- 3 -->\n<g id=\"node4\" class=\"node\">\n<title>3</title>\n<path fill=\"#6bb6ec\" stroke=\"#000000\" d=\"M277.5,-187C277.5,-187 154.5,-187 154.5,-187 148.5,-187 142.5,-181 142.5,-175 142.5,-175 142.5,-116 142.5,-116 142.5,-110 148.5,-104 154.5,-104 154.5,-104 277.5,-104 277.5,-104 283.5,-104 289.5,-110 289.5,-116 289.5,-116 289.5,-175 289.5,-175 289.5,-181 283.5,-187 277.5,-187\"/>\n<text text-anchor=\"middle\" x=\"216\" y=\"-171.8\" font-family=\"Helvetica,sans-Serif\" font-size=\"14.00\" fill=\"#000000\">preco &lt;= 41083.029</text>\n<text text-anchor=\"middle\" x=\"216\" y=\"-156.8\" font-family=\"Helvetica,sans-Serif\" font-size=\"14.00\" fill=\"#000000\">gini = 0.321</text>\n<text text-anchor=\"middle\" x=\"216\" y=\"-141.8\" font-family=\"Helvetica,sans-Serif\" font-size=\"14.00\" fill=\"#000000\">samples = 2412</text>\n<text text-anchor=\"middle\" x=\"216\" y=\"-126.8\" font-family=\"Helvetica,sans-Serif\" font-size=\"14.00\" fill=\"#000000\">value = [484, 1928]</text>\n<text text-anchor=\"middle\" x=\"216\" y=\"-111.8\" font-family=\"Helvetica,sans-Serif\" font-size=\"14.00\" fill=\"#000000\">class = sim</text>\n</g>\n<!-- 1&#45;&gt;3 -->\n<g id=\"edge3\" class=\"edge\">\n<title>1&#45;&gt;3</title>\n<path fill=\"none\" stroke=\"#000000\" d=\"M216,-222.8796C216,-214.6838 216,-205.9891 216,-197.5013\"/>\n<polygon fill=\"#000000\" stroke=\"#000000\" points=\"219.5001,-197.298 216,-187.2981 212.5001,-197.2981 219.5001,-197.298\"/>\n</g>\n<!-- 4 -->\n<g id=\"node5\" class=\"node\">\n<title>4</title>\n<path fill=\"#95cbf1\" stroke=\"#000000\" d=\"M116,-68C116,-68 24,-68 24,-68 18,-68 12,-62 12,-56 12,-56 12,-12 12,-12 12,-6 18,0 24,0 24,0 116,0 116,0 122,0 128,-6 128,-12 128,-12 128,-56 128,-56 128,-62 122,-68 116,-68\"/>\n<text text-anchor=\"middle\" x=\"70\" y=\"-52.8\" font-family=\"Helvetica,sans-Serif\" font-size=\"14.00\" fill=\"#000000\">gini = 0.434</text>\n<text text-anchor=\"middle\" x=\"70\" y=\"-37.8\" font-family=\"Helvetica,sans-Serif\" font-size=\"14.00\" fill=\"#000000\">samples = 110</text>\n<text text-anchor=\"middle\" x=\"70\" y=\"-22.8\" font-family=\"Helvetica,sans-Serif\" font-size=\"14.00\" fill=\"#000000\">value = [35, 75]</text>\n<text text-anchor=\"middle\" x=\"70\" y=\"-7.8\" font-family=\"Helvetica,sans-Serif\" font-size=\"14.00\" fill=\"#000000\">class = sim</text>\n</g>\n<!-- 3&#45;&gt;4 -->\n<g id=\"edge4\" class=\"edge\">\n<title>3&#45;&gt;4</title>\n<path fill=\"none\" stroke=\"#000000\" d=\"M161.635,-103.9815C148.9989,-94.3313 135.5644,-84.0714 122.9885,-74.4673\"/>\n<polygon fill=\"#000000\" stroke=\"#000000\" points=\"124.9372,-71.5515 114.8654,-68.2637 120.6886,-77.1148 124.9372,-71.5515\"/>\n</g>\n<!-- 5 -->\n<g id=\"node6\" class=\"node\">\n<title>5</title>\n<path fill=\"#69b5eb\" stroke=\"#000000\" d=\"M274,-68C274,-68 158,-68 158,-68 152,-68 146,-62 146,-56 146,-56 146,-12 146,-12 146,-6 152,0 158,0 158,0 274,0 274,0 280,0 286,-6 286,-12 286,-12 286,-56 286,-56 286,-62 280,-68 274,-68\"/>\n<text text-anchor=\"middle\" x=\"216\" y=\"-52.8\" font-family=\"Helvetica,sans-Serif\" font-size=\"14.00\" fill=\"#000000\">gini = 0.314</text>\n<text text-anchor=\"middle\" x=\"216\" y=\"-37.8\" font-family=\"Helvetica,sans-Serif\" font-size=\"14.00\" fill=\"#000000\">samples = 2302</text>\n<text text-anchor=\"middle\" x=\"216\" y=\"-22.8\" font-family=\"Helvetica,sans-Serif\" font-size=\"14.00\" fill=\"#000000\">value = [449, 1853]</text>\n<text text-anchor=\"middle\" x=\"216\" y=\"-7.8\" font-family=\"Helvetica,sans-Serif\" font-size=\"14.00\" fill=\"#000000\">class = sim</text>\n</g>\n<!-- 3&#45;&gt;5 -->\n<g id=\"edge5\" class=\"edge\">\n<title>3&#45;&gt;5</title>\n<path fill=\"none\" stroke=\"#000000\" d=\"M216,-103.9815C216,-95.618 216,-86.7965 216,-78.3409\"/>\n<polygon fill=\"#000000\" stroke=\"#000000\" points=\"219.5001,-78.2636 216,-68.2637 212.5001,-78.2637 219.5001,-78.2636\"/>\n</g>\n<!-- 7 -->\n<g id=\"node8\" class=\"node\">\n<title>7</title>\n<path fill=\"#fcefe5\" stroke=\"#000000\" d=\"M523.5,-187C523.5,-187 398.5,-187 398.5,-187 392.5,-187 386.5,-181 386.5,-175 386.5,-175 386.5,-116 386.5,-116 386.5,-110 392.5,-104 398.5,-104 398.5,-104 523.5,-104 523.5,-104 529.5,-104 535.5,-110 535.5,-116 535.5,-116 535.5,-175 535.5,-175 535.5,-181 529.5,-187 523.5,-187\"/>\n<text text-anchor=\"middle\" x=\"461\" y=\"-171.8\" font-family=\"Helvetica,sans-Serif\" font-size=\"14.00\" fill=\"#000000\">preco &lt;= 99974.41</text>\n<text text-anchor=\"middle\" x=\"461\" y=\"-156.8\" font-family=\"Helvetica,sans-Serif\" font-size=\"14.00\" fill=\"#000000\">gini = 0.498</text>\n<text text-anchor=\"middle\" x=\"461\" y=\"-141.8\" font-family=\"Helvetica,sans-Serif\" font-size=\"14.00\" fill=\"#000000\">samples = 3513</text>\n<text text-anchor=\"middle\" x=\"461\" y=\"-126.8\" font-family=\"Helvetica,sans-Serif\" font-size=\"14.00\" fill=\"#000000\">value = [1879, 1634]</text>\n<text text-anchor=\"middle\" x=\"461\" y=\"-111.8\" font-family=\"Helvetica,sans-Serif\" font-size=\"14.00\" fill=\"#000000\">class = nao</text>\n</g>\n<!-- 6&#45;&gt;7 -->\n<g id=\"edge7\" class=\"edge\">\n<title>6&#45;&gt;7</title>\n<path fill=\"none\" stroke=\"#000000\" d=\"M461,-222.8796C461,-214.6838 461,-205.9891 461,-197.5013\"/>\n<polygon fill=\"#000000\" stroke=\"#000000\" points=\"464.5001,-197.298 461,-187.2981 457.5001,-197.2981 464.5001,-197.298\"/>\n</g>\n<!-- 10 -->\n<g id=\"node11\" class=\"node\">\n<title>10</title>\n<path fill=\"#e9965a\" stroke=\"#000000\" d=\"M753.5,-187C753.5,-187 622.5,-187 622.5,-187 616.5,-187 610.5,-181 610.5,-175 610.5,-175 610.5,-116 610.5,-116 610.5,-110 616.5,-104 622.5,-104 622.5,-104 753.5,-104 753.5,-104 759.5,-104 765.5,-110 765.5,-116 765.5,-116 765.5,-175 765.5,-175 765.5,-181 759.5,-187 753.5,-187\"/>\n<text text-anchor=\"middle\" x=\"688\" y=\"-171.8\" font-family=\"Helvetica,sans-Serif\" font-size=\"14.00\" fill=\"#000000\">preco &lt;= 100076.957</text>\n<text text-anchor=\"middle\" x=\"688\" y=\"-156.8\" font-family=\"Helvetica,sans-Serif\" font-size=\"14.00\" fill=\"#000000\">gini = 0.243</text>\n<text text-anchor=\"middle\" x=\"688\" y=\"-141.8\" font-family=\"Helvetica,sans-Serif\" font-size=\"14.00\" fill=\"#000000\">samples = 2140</text>\n<text text-anchor=\"middle\" x=\"688\" y=\"-126.8\" font-family=\"Helvetica,sans-Serif\" font-size=\"14.00\" fill=\"#000000\">value = [1837, 303]</text>\n<text text-anchor=\"middle\" x=\"688\" y=\"-111.8\" font-family=\"Helvetica,sans-Serif\" font-size=\"14.00\" fill=\"#000000\">class = nao</text>\n</g>\n<!-- 6&#45;&gt;10 -->\n<g id=\"edge10\" class=\"edge\">\n<title>6&#45;&gt;10</title>\n<path fill=\"none\" stroke=\"#000000\" d=\"M540.3936,-222.8796C560.0179,-212.592 581.1418,-201.5182 601.1025,-191.0542\"/>\n<polygon fill=\"#000000\" stroke=\"#000000\" points=\"602.9504,-194.0373 610.1822,-186.2944 599.7003,-187.8375 602.9504,-194.0373\"/>\n</g>\n<!-- 8 -->\n<g id=\"node9\" class=\"node\">\n<title>8</title>\n<path fill=\"#f9e0ce\" stroke=\"#000000\" d=\"M441.5,-68C441.5,-68 316.5,-68 316.5,-68 310.5,-68 304.5,-62 304.5,-56 304.5,-56 304.5,-12 304.5,-12 304.5,-6 310.5,0 316.5,0 316.5,0 441.5,0 441.5,0 447.5,0 453.5,-6 453.5,-12 453.5,-12 453.5,-56 453.5,-56 453.5,-62 447.5,-68 441.5,-68\"/>\n<text text-anchor=\"middle\" x=\"379\" y=\"-52.8\" font-family=\"Helvetica,sans-Serif\" font-size=\"14.00\" fill=\"#000000\">gini = 0.49</text>\n<text text-anchor=\"middle\" x=\"379\" y=\"-37.8\" font-family=\"Helvetica,sans-Serif\" font-size=\"14.00\" fill=\"#000000\">samples = 2944</text>\n<text text-anchor=\"middle\" x=\"379\" y=\"-22.8\" font-family=\"Helvetica,sans-Serif\" font-size=\"14.00\" fill=\"#000000\">value = [1682, 1262]</text>\n<text text-anchor=\"middle\" x=\"379\" y=\"-7.8\" font-family=\"Helvetica,sans-Serif\" font-size=\"14.00\" fill=\"#000000\">class = nao</text>\n</g>\n<!-- 7&#45;&gt;8 -->\n<g id=\"edge8\" class=\"edge\">\n<title>7&#45;&gt;8</title>\n<path fill=\"none\" stroke=\"#000000\" d=\"M430.4662,-103.9815C423.8424,-94.9747 416.8279,-85.4367 410.1795,-76.3965\"/>\n<polygon fill=\"#000000\" stroke=\"#000000\" points=\"412.9426,-74.2461 404.1984,-68.2637 407.3034,-78.3933 412.9426,-74.2461\"/>\n</g>\n<!-- 9 -->\n<g id=\"node10\" class=\"node\">\n<title>9</title>\n<path fill=\"#a2d1f3\" stroke=\"#000000\" d=\"M592,-68C592,-68 484,-68 484,-68 478,-68 472,-62 472,-56 472,-56 472,-12 472,-12 472,-6 478,0 484,0 484,0 592,0 592,0 598,0 604,-6 604,-12 604,-12 604,-56 604,-56 604,-62 598,-68 592,-68\"/>\n<text text-anchor=\"middle\" x=\"538\" y=\"-52.8\" font-family=\"Helvetica,sans-Serif\" font-size=\"14.00\" fill=\"#000000\">gini = 0.453</text>\n<text text-anchor=\"middle\" x=\"538\" y=\"-37.8\" font-family=\"Helvetica,sans-Serif\" font-size=\"14.00\" fill=\"#000000\">samples = 569</text>\n<text text-anchor=\"middle\" x=\"538\" y=\"-22.8\" font-family=\"Helvetica,sans-Serif\" font-size=\"14.00\" fill=\"#000000\">value = [197, 372]</text>\n<text text-anchor=\"middle\" x=\"538\" y=\"-7.8\" font-family=\"Helvetica,sans-Serif\" font-size=\"14.00\" fill=\"#000000\">class = sim</text>\n</g>\n<!-- 7&#45;&gt;9 -->\n<g id=\"edge9\" class=\"edge\">\n<title>7&#45;&gt;9</title>\n<path fill=\"none\" stroke=\"#000000\" d=\"M489.672,-103.9815C495.8285,-95.0666 502.3443,-85.6313 508.5305,-76.6734\"/>\n<polygon fill=\"#000000\" stroke=\"#000000\" points=\"511.5355,-78.4811 514.3381,-68.2637 505.7755,-74.5034 511.5355,-78.4811\"/>\n</g>\n<!-- 11 -->\n<g id=\"node12\" class=\"node\">\n<title>11</title>\n<path fill=\"#e68742\" stroke=\"#000000\" d=\"M742,-68C742,-68 634,-68 634,-68 628,-68 622,-62 622,-56 622,-56 622,-12 622,-12 622,-6 628,0 634,0 634,0 742,0 742,0 748,0 754,-6 754,-12 754,-12 754,-56 754,-56 754,-62 748,-68 742,-68\"/>\n<text text-anchor=\"middle\" x=\"688\" y=\"-52.8\" font-family=\"Helvetica,sans-Serif\" font-size=\"14.00\" fill=\"#000000\">gini = 0.082</text>\n<text text-anchor=\"middle\" x=\"688\" y=\"-37.8\" font-family=\"Helvetica,sans-Serif\" font-size=\"14.00\" fill=\"#000000\">samples = 1809</text>\n<text text-anchor=\"middle\" x=\"688\" y=\"-22.8\" font-family=\"Helvetica,sans-Serif\" font-size=\"14.00\" fill=\"#000000\">value = [1732, 77]</text>\n<text text-anchor=\"middle\" x=\"688\" y=\"-7.8\" font-family=\"Helvetica,sans-Serif\" font-size=\"14.00\" fill=\"#000000\">class = nao</text>\n</g>\n<!-- 10&#45;&gt;11 -->\n<g id=\"edge11\" class=\"edge\">\n<title>10&#45;&gt;11</title>\n<path fill=\"none\" stroke=\"#000000\" d=\"M688,-103.9815C688,-95.618 688,-86.7965 688,-78.3409\"/>\n<polygon fill=\"#000000\" stroke=\"#000000\" points=\"691.5001,-78.2636 688,-68.2637 684.5001,-78.2637 691.5001,-78.2636\"/>\n</g>\n<!-- 12 -->\n<g id=\"node13\" class=\"node\">\n<title>12</title>\n<path fill=\"#95cbf1\" stroke=\"#000000\" d=\"M892,-68C892,-68 784,-68 784,-68 778,-68 772,-62 772,-56 772,-56 772,-12 772,-12 772,-6 778,0 784,0 784,0 892,0 892,0 898,0 904,-6 904,-12 904,-12 904,-56 904,-56 904,-62 898,-68 892,-68\"/>\n<text text-anchor=\"middle\" x=\"838\" y=\"-52.8\" font-family=\"Helvetica,sans-Serif\" font-size=\"14.00\" fill=\"#000000\">gini = 0.433</text>\n<text text-anchor=\"middle\" x=\"838\" y=\"-37.8\" font-family=\"Helvetica,sans-Serif\" font-size=\"14.00\" fill=\"#000000\">samples = 331</text>\n<text text-anchor=\"middle\" x=\"838\" y=\"-22.8\" font-family=\"Helvetica,sans-Serif\" font-size=\"14.00\" fill=\"#000000\">value = [105, 226]</text>\n<text text-anchor=\"middle\" x=\"838\" y=\"-7.8\" font-family=\"Helvetica,sans-Serif\" font-size=\"14.00\" fill=\"#000000\">class = sim</text>\n</g>\n<!-- 10&#45;&gt;12 -->\n<g id=\"edge12\" class=\"edge\">\n<title>10&#45;&gt;12</title>\n<path fill=\"none\" stroke=\"#000000\" d=\"M743.8545,-103.9815C756.8368,-94.3313 770.6394,-84.0714 783.5597,-74.4673\"/>\n<polygon fill=\"#000000\" stroke=\"#000000\" points=\"785.9678,-77.0384 791.9054,-68.2637 781.7917,-71.4204 785.9678,-77.0384\"/>\n</g>\n</g>\n</svg>\n"
          },
          "metadata": {},
          "execution_count": 10
        }
      ]
    },
    {
      "cell_type": "markdown",
      "metadata": {
        "id": "Pbi016FwzH_l"
      },
      "source": [
        "Como pode ser visto, a primeira folha possui 110 samples, a segunda 2302 e etc.\n",
        "\n",
        "Para encontrar o conjunto ótimo de parâmetros (max_depth e min_samples_leaf), podemos rodar todas as possibilidades:\n",
        "\n",
        "- Max_depth = 1 e min_samples_leaf = 1\n",
        "- Max_depth = 1 e min_samples_leaf = 2\n",
        "- ...\n",
        "- Max_depth = 64 e min_samples_leaf = 63\n",
        "- Max_depth = 64 e min_samples_leaf = 64\n",
        "\n",
        "Dessa forma, encontramos a combinação com maior score:"
      ]
    },
    {
      "cell_type": "code",
      "metadata": {
        "id": "BNbFpwJoyn8B"
      },
      "source": [
        "resultados = []\n",
        "\n",
        "for pmax_depth in range(1, 20):\n",
        "    for pmin_samples_leaf in range(1, 20):\n",
        "        resultado = roda_decision_tree(pmax_depth, pmin_samples_leaf)\n",
        "        resultados.append(resultado)\n",
        "\n",
        "df_maxDepth_minSamples = pd.DataFrame(resultados, columns=['max_depth', 'min_samples_leaf', 'score_treino', 'score_teste', 'fit_time', 'score_time'])"
      ],
      "execution_count": 11,
      "outputs": []
    },
    {
      "cell_type": "code",
      "metadata": {
        "colab": {
          "base_uri": "https://localhost:8080/",
          "height": 206
        },
        "id": "nUi4Az6g5KXD",
        "outputId": "90746280-4bca-4690-c834-ab82a685cbd7"
      },
      "source": [
        "df_maxDepth_minSamples.sort_values('score_teste', ascending = False).head()"
      ],
      "execution_count": 12,
      "outputs": [
        {
          "output_type": "execute_result",
          "data": {
            "text/html": [
              "<div>\n",
              "<style scoped>\n",
              "    .dataframe tbody tr th:only-of-type {\n",
              "        vertical-align: middle;\n",
              "    }\n",
              "\n",
              "    .dataframe tbody tr th {\n",
              "        vertical-align: top;\n",
              "    }\n",
              "\n",
              "    .dataframe thead th {\n",
              "        text-align: right;\n",
              "    }\n",
              "</style>\n",
              "<table border=\"1\" class=\"dataframe\">\n",
              "  <thead>\n",
              "    <tr style=\"text-align: right;\">\n",
              "      <th></th>\n",
              "      <th>max_depth</th>\n",
              "      <th>min_samples_leaf</th>\n",
              "      <th>score_treino</th>\n",
              "      <th>score_teste</th>\n",
              "      <th>fit_time</th>\n",
              "      <th>score_time</th>\n",
              "    </tr>\n",
              "  </thead>\n",
              "  <tbody>\n",
              "    <tr>\n",
              "      <th>46</th>\n",
              "      <td>3</td>\n",
              "      <td>9</td>\n",
              "      <td>0.787511</td>\n",
              "      <td>0.787</td>\n",
              "      <td>0.008349</td>\n",
              "      <td>0.000899</td>\n",
              "    </tr>\n",
              "    <tr>\n",
              "      <th>49</th>\n",
              "      <td>3</td>\n",
              "      <td>12</td>\n",
              "      <td>0.787511</td>\n",
              "      <td>0.787</td>\n",
              "      <td>0.008942</td>\n",
              "      <td>0.000931</td>\n",
              "    </tr>\n",
              "    <tr>\n",
              "      <th>41</th>\n",
              "      <td>3</td>\n",
              "      <td>4</td>\n",
              "      <td>0.787533</td>\n",
              "      <td>0.787</td>\n",
              "      <td>0.008344</td>\n",
              "      <td>0.000863</td>\n",
              "    </tr>\n",
              "    <tr>\n",
              "      <th>42</th>\n",
              "      <td>3</td>\n",
              "      <td>5</td>\n",
              "      <td>0.787511</td>\n",
              "      <td>0.787</td>\n",
              "      <td>0.008356</td>\n",
              "      <td>0.000882</td>\n",
              "    </tr>\n",
              "    <tr>\n",
              "      <th>43</th>\n",
              "      <td>3</td>\n",
              "      <td>6</td>\n",
              "      <td>0.787511</td>\n",
              "      <td>0.787</td>\n",
              "      <td>0.008314</td>\n",
              "      <td>0.000862</td>\n",
              "    </tr>\n",
              "  </tbody>\n",
              "</table>\n",
              "</div>"
            ],
            "text/plain": [
              "    max_depth  min_samples_leaf  ...  fit_time  score_time\n",
              "46          3                 9  ...  0.008349    0.000899\n",
              "49          3                12  ...  0.008942    0.000931\n",
              "41          3                 4  ...  0.008344    0.000863\n",
              "42          3                 5  ...  0.008356    0.000882\n",
              "43          3                 6  ...  0.008314    0.000862\n",
              "\n",
              "[5 rows x 6 columns]"
            ]
          },
          "metadata": {},
          "execution_count": 12
        }
      ]
    },
    {
      "cell_type": "markdown",
      "metadata": {
        "id": "i3q39sDK-LrZ"
      },
      "source": [
        "Rodando os testes, podemos ver que a combinação ótima ficou em Max Depth = 3 e Min Samples Leaf = 9.\n",
        "\n",
        "Através da tabela de correlação, vemos que o hiperparâmetro Max Depth tem uma correlação negativa com o score_teste. Isso quer dizer que quanto maior o max_depth, menor o score teste. O inverso ocorre com o hiperparâmetro min_samples_leaf e score_teste:"
      ]
    },
    {
      "cell_type": "code",
      "metadata": {
        "colab": {
          "base_uri": "https://localhost:8080/",
          "height": 237
        },
        "id": "YWl7ia4-7HOY",
        "outputId": "9aee7d58-f93c-4c16-b1df-c76b285f4e3b"
      },
      "source": [
        "correlacao = df_maxDepth_minSamples.corr()\n",
        "correlacao"
      ],
      "execution_count": 13,
      "outputs": [
        {
          "output_type": "execute_result",
          "data": {
            "text/html": [
              "<div>\n",
              "<style scoped>\n",
              "    .dataframe tbody tr th:only-of-type {\n",
              "        vertical-align: middle;\n",
              "    }\n",
              "\n",
              "    .dataframe tbody tr th {\n",
              "        vertical-align: top;\n",
              "    }\n",
              "\n",
              "    .dataframe thead th {\n",
              "        text-align: right;\n",
              "    }\n",
              "</style>\n",
              "<table border=\"1\" class=\"dataframe\">\n",
              "  <thead>\n",
              "    <tr style=\"text-align: right;\">\n",
              "      <th></th>\n",
              "      <th>max_depth</th>\n",
              "      <th>min_samples_leaf</th>\n",
              "      <th>score_treino</th>\n",
              "      <th>score_teste</th>\n",
              "      <th>fit_time</th>\n",
              "      <th>score_time</th>\n",
              "    </tr>\n",
              "  </thead>\n",
              "  <tbody>\n",
              "    <tr>\n",
              "      <th>max_depth</th>\n",
              "      <td>1.000000</td>\n",
              "      <td>0.000000</td>\n",
              "      <td>0.907295</td>\n",
              "      <td>-0.673004</td>\n",
              "      <td>0.963781</td>\n",
              "      <td>0.660890</td>\n",
              "    </tr>\n",
              "    <tr>\n",
              "      <th>min_samples_leaf</th>\n",
              "      <td>0.000000</td>\n",
              "      <td>1.000000</td>\n",
              "      <td>-0.215611</td>\n",
              "      <td>0.146172</td>\n",
              "      <td>-0.106205</td>\n",
              "      <td>-0.063063</td>\n",
              "    </tr>\n",
              "    <tr>\n",
              "      <th>score_treino</th>\n",
              "      <td>0.907295</td>\n",
              "      <td>-0.215611</td>\n",
              "      <td>1.000000</td>\n",
              "      <td>-0.563822</td>\n",
              "      <td>0.934010</td>\n",
              "      <td>0.611402</td>\n",
              "    </tr>\n",
              "    <tr>\n",
              "      <th>score_teste</th>\n",
              "      <td>-0.673004</td>\n",
              "      <td>0.146172</td>\n",
              "      <td>-0.563822</td>\n",
              "      <td>1.000000</td>\n",
              "      <td>-0.612061</td>\n",
              "      <td>-0.628520</td>\n",
              "    </tr>\n",
              "    <tr>\n",
              "      <th>fit_time</th>\n",
              "      <td>0.963781</td>\n",
              "      <td>-0.106205</td>\n",
              "      <td>0.934010</td>\n",
              "      <td>-0.612061</td>\n",
              "      <td>1.000000</td>\n",
              "      <td>0.646873</td>\n",
              "    </tr>\n",
              "    <tr>\n",
              "      <th>score_time</th>\n",
              "      <td>0.660890</td>\n",
              "      <td>-0.063063</td>\n",
              "      <td>0.611402</td>\n",
              "      <td>-0.628520</td>\n",
              "      <td>0.646873</td>\n",
              "      <td>1.000000</td>\n",
              "    </tr>\n",
              "  </tbody>\n",
              "</table>\n",
              "</div>"
            ],
            "text/plain": [
              "                  max_depth  min_samples_leaf  ...  fit_time  score_time\n",
              "max_depth          1.000000          0.000000  ...  0.963781    0.660890\n",
              "min_samples_leaf   0.000000          1.000000  ... -0.106205   -0.063063\n",
              "score_treino       0.907295         -0.215611  ...  0.934010    0.611402\n",
              "score_teste       -0.673004          0.146172  ... -0.612061   -0.628520\n",
              "fit_time           0.963781         -0.106205  ...  1.000000    0.646873\n",
              "score_time         0.660890         -0.063063  ...  0.646873    1.000000\n",
              "\n",
              "[6 rows x 6 columns]"
            ]
          },
          "metadata": {},
          "execution_count": 13
        }
      ]
    },
    {
      "cell_type": "code",
      "metadata": {
        "colab": {
          "base_uri": "https://localhost:8080/",
          "height": 362
        },
        "id": "EfUc6X2iA4kn",
        "outputId": "dc1a92ba-0ce1-400f-c4a8-a0c27d76da70"
      },
      "source": [
        "mask = np.triu(np.ones_like(correlacao, dtype=bool)) # Retira a parte de cima\n",
        "sns.heatmap(correlacao, cmap = 'Reds', mask = mask)"
      ],
      "execution_count": 14,
      "outputs": [
        {
          "output_type": "execute_result",
          "data": {
            "text/plain": [
              "<matplotlib.axes._subplots.AxesSubplot at 0x7fa0ce815410>"
            ]
          },
          "metadata": {},
          "execution_count": 14
        },
        {
          "output_type": "display_data",
          "data": {
            "image/png": "[encoded data removed]",
            "text/plain": [
              "<Figure size 432x288 with 2 Axes>"
            ]
          },
          "metadata": {
            "needs_background": "light"
          }
        }
      ]
    },
    {
      "cell_type": "markdown",
      "metadata": {
        "id": "pTBMsFYPtw64"
      },
      "source": [
        "# Grid Search CV\n",
        "\n",
        "A DecisionTree possui muitos outros hiperparâmetros, porém aninhar fors torna o processo extremamente lento. Dessa forma, podemos utilizar a biblioteca GridSearchCV para trabalhar nesses cenários:"
      ]
    },
    {
      "cell_type": "code",
      "metadata": {
        "id": "OMcIywRJC7rr",
        "colab": {
          "base_uri": "https://localhost:8080/",
          "height": 573
        },
        "outputId": "3d3c8501-6432-4ac7-c76b-22a53983c2ec"
      },
      "source": [
        "from sklearn.model_selection import GridSearchCV\n",
        "\n",
        "SEED = 301\n",
        "np.random.seed(SEED)\n",
        "\n",
        "# definimos quais valores que queremos que sejam testados:\n",
        "espaco_de_parametros = {\n",
        "    'max_depth' : [3, 5],\n",
        "    'min_samples_split' : [32, 64, 128],\n",
        "    'min_samples_leaf' : [32, 64, 128],\n",
        "    'criterion' : ['gini', 'entropy']\n",
        "}\n",
        "\n",
        "busca = GridSearchCV(\n",
        "                        DecisionTreeClassifier(), \n",
        "                        espaco_de_parametros, \n",
        "                        cv = GroupKFold(n_splits = 10)\n",
        "                    )\n",
        "busca.fit(x_azar, y_azar, groups = x_azar.idade_do_modelo)\n",
        "resultados = pd.DataFrame(busca.cv_results_)\n",
        "resultados.head()"
      ],
      "execution_count": 15,
      "outputs": [
        {
          "output_type": "execute_result",
          "data": {
            "text/html": [
              "<div>\n",
              "<style scoped>\n",
              "    .dataframe tbody tr th:only-of-type {\n",
              "        vertical-align: middle;\n",
              "    }\n",
              "\n",
              "    .dataframe tbody tr th {\n",
              "        vertical-align: top;\n",
              "    }\n",
              "\n",
              "    .dataframe thead th {\n",
              "        text-align: right;\n",
              "    }\n",
              "</style>\n",
              "<table border=\"1\" class=\"dataframe\">\n",
              "  <thead>\n",
              "    <tr style=\"text-align: right;\">\n",
              "      <th></th>\n",
              "      <th>mean_fit_time</th>\n",
              "      <th>std_fit_time</th>\n",
              "      <th>mean_score_time</th>\n",
              "      <th>std_score_time</th>\n",
              "      <th>param_criterion</th>\n",
              "      <th>param_max_depth</th>\n",
              "      <th>param_min_samples_leaf</th>\n",
              "      <th>param_min_samples_split</th>\n",
              "      <th>params</th>\n",
              "      <th>split0_test_score</th>\n",
              "      <th>split1_test_score</th>\n",
              "      <th>split2_test_score</th>\n",
              "      <th>split3_test_score</th>\n",
              "      <th>split4_test_score</th>\n",
              "      <th>split5_test_score</th>\n",
              "      <th>split6_test_score</th>\n",
              "      <th>split7_test_score</th>\n",
              "      <th>split8_test_score</th>\n",
              "      <th>split9_test_score</th>\n",
              "      <th>mean_test_score</th>\n",
              "      <th>std_test_score</th>\n",
              "      <th>rank_test_score</th>\n",
              "    </tr>\n",
              "  </thead>\n",
              "  <tbody>\n",
              "    <tr>\n",
              "      <th>0</th>\n",
              "      <td>0.008809</td>\n",
              "      <td>0.000710</td>\n",
              "      <td>0.001013</td>\n",
              "      <td>0.000300</td>\n",
              "      <td>gini</td>\n",
              "      <td>3</td>\n",
              "      <td>32</td>\n",
              "      <td>32</td>\n",
              "      <td>{'criterion': 'gini', 'max_depth': 3, 'min_sam...</td>\n",
              "      <td>0.812067</td>\n",
              "      <td>0.829766</td>\n",
              "      <td>0.796813</td>\n",
              "      <td>0.821833</td>\n",
              "      <td>0.753012</td>\n",
              "      <td>0.768293</td>\n",
              "      <td>0.77988</td>\n",
              "      <td>0.76939</td>\n",
              "      <td>0.763795</td>\n",
              "      <td>0.775977</td>\n",
              "      <td>0.787083</td>\n",
              "      <td>0.025085</td>\n",
              "      <td>1</td>\n",
              "    </tr>\n",
              "    <tr>\n",
              "      <th>1</th>\n",
              "      <td>0.008873</td>\n",
              "      <td>0.000832</td>\n",
              "      <td>0.000926</td>\n",
              "      <td>0.000096</td>\n",
              "      <td>gini</td>\n",
              "      <td>3</td>\n",
              "      <td>32</td>\n",
              "      <td>64</td>\n",
              "      <td>{'criterion': 'gini', 'max_depth': 3, 'min_sam...</td>\n",
              "      <td>0.812067</td>\n",
              "      <td>0.829766</td>\n",
              "      <td>0.796813</td>\n",
              "      <td>0.821833</td>\n",
              "      <td>0.753012</td>\n",
              "      <td>0.768293</td>\n",
              "      <td>0.77988</td>\n",
              "      <td>0.76939</td>\n",
              "      <td>0.763795</td>\n",
              "      <td>0.775977</td>\n",
              "      <td>0.787083</td>\n",
              "      <td>0.025085</td>\n",
              "      <td>1</td>\n",
              "    </tr>\n",
              "    <tr>\n",
              "      <th>2</th>\n",
              "      <td>0.009210</td>\n",
              "      <td>0.001345</td>\n",
              "      <td>0.001020</td>\n",
              "      <td>0.000261</td>\n",
              "      <td>gini</td>\n",
              "      <td>3</td>\n",
              "      <td>32</td>\n",
              "      <td>128</td>\n",
              "      <td>{'criterion': 'gini', 'max_depth': 3, 'min_sam...</td>\n",
              "      <td>0.812067</td>\n",
              "      <td>0.829766</td>\n",
              "      <td>0.796813</td>\n",
              "      <td>0.821833</td>\n",
              "      <td>0.753012</td>\n",
              "      <td>0.768293</td>\n",
              "      <td>0.77988</td>\n",
              "      <td>0.76939</td>\n",
              "      <td>0.763795</td>\n",
              "      <td>0.775977</td>\n",
              "      <td>0.787083</td>\n",
              "      <td>0.025085</td>\n",
              "      <td>1</td>\n",
              "    </tr>\n",
              "    <tr>\n",
              "      <th>3</th>\n",
              "      <td>0.008707</td>\n",
              "      <td>0.000854</td>\n",
              "      <td>0.000945</td>\n",
              "      <td>0.000161</td>\n",
              "      <td>gini</td>\n",
              "      <td>3</td>\n",
              "      <td>64</td>\n",
              "      <td>32</td>\n",
              "      <td>{'criterion': 'gini', 'max_depth': 3, 'min_sam...</td>\n",
              "      <td>0.812067</td>\n",
              "      <td>0.829766</td>\n",
              "      <td>0.796813</td>\n",
              "      <td>0.821833</td>\n",
              "      <td>0.753012</td>\n",
              "      <td>0.768293</td>\n",
              "      <td>0.77988</td>\n",
              "      <td>0.76939</td>\n",
              "      <td>0.763795</td>\n",
              "      <td>0.775977</td>\n",
              "      <td>0.787083</td>\n",
              "      <td>0.025085</td>\n",
              "      <td>1</td>\n",
              "    </tr>\n",
              "    <tr>\n",
              "      <th>4</th>\n",
              "      <td>0.008350</td>\n",
              "      <td>0.000123</td>\n",
              "      <td>0.000995</td>\n",
              "      <td>0.000163</td>\n",
              "      <td>gini</td>\n",
              "      <td>3</td>\n",
              "      <td>64</td>\n",
              "      <td>64</td>\n",
              "      <td>{'criterion': 'gini', 'max_depth': 3, 'min_sam...</td>\n",
              "      <td>0.812067</td>\n",
              "      <td>0.829766</td>\n",
              "      <td>0.796813</td>\n",
              "      <td>0.821833</td>\n",
              "      <td>0.753012</td>\n",
              "      <td>0.768293</td>\n",
              "      <td>0.77988</td>\n",
              "      <td>0.76939</td>\n",
              "      <td>0.763795</td>\n",
              "      <td>0.775977</td>\n",
              "      <td>0.787083</td>\n",
              "      <td>0.025085</td>\n",
              "      <td>1</td>\n",
              "    </tr>\n",
              "  </tbody>\n",
              "</table>\n",
              "</div>"
            ],
            "text/plain": [
              "   mean_fit_time  std_fit_time  ...  std_test_score  rank_test_score\n",
              "0       0.008809      0.000710  ...        0.025085                1\n",
              "1       0.008873      0.000832  ...        0.025085                1\n",
              "2       0.009210      0.001345  ...        0.025085                1\n",
              "3       0.008707      0.000854  ...        0.025085                1\n",
              "4       0.008350      0.000123  ...        0.025085                1\n",
              "\n",
              "[5 rows x 22 columns]"
            ]
          },
          "metadata": {},
          "execution_count": 15
        }
      ]
    },
    {
      "cell_type": "markdown",
      "metadata": {
        "id": "IEf6ym4ayxFR"
      },
      "source": [
        "Podemos pedir o melhor conjunto de parâmetros encontrados dentro do nosso espaço de parâmetros:"
      ]
    },
    {
      "cell_type": "code",
      "metadata": {
        "colab": {
          "base_uri": "https://localhost:8080/"
        },
        "id": "wTWdY8ZwvsAg",
        "outputId": "fb5e93be-9ca5-47d6-ca97-014d70678002"
      },
      "source": [
        "print(\"Melhores parâmetros: \", busca.best_params_)\n",
        "print(\"Melhor score: \", busca.best_score_)\n",
        "print(\"Melhor estimador: \", busca.best_estimator_)"
      ],
      "execution_count": 16,
      "outputs": [
        {
          "output_type": "stream",
          "text": [
            "Melhores parâmetros:  {'criterion': 'gini', 'max_depth': 3, 'min_samples_leaf': 32, 'min_samples_split': 32}\n",
            "Melhor score:  0.787082568453911\n",
            "Melhor estimador:  DecisionTreeClassifier(ccp_alpha=0.0, class_weight=None, criterion='gini',\n",
            "                       max_depth=3, max_features=None, max_leaf_nodes=None,\n",
            "                       min_impurity_decrease=0.0, min_impurity_split=None,\n",
            "                       min_samples_leaf=32, min_samples_split=32,\n",
            "                       min_weight_fraction_leaf=0.0, presort='deprecated',\n",
            "                       random_state=None, splitter='best')\n"
          ],
          "name": "stdout"
        }
      ]
    },
    {
      "cell_type": "markdown",
      "metadata": {
        "id": "FWq7NHZP0My6"
      },
      "source": [
        "Podemos pegar o melhor estimador encontrado pelo GridSearchCV e testá-lo com os dados:"
      ]
    },
    {
      "cell_type": "code",
      "metadata": {
        "colab": {
          "base_uri": "https://localhost:8080/"
        },
        "id": "_n_MQP9qxeR8",
        "outputId": "49780a0b-4015-442a-face-ad6c44d9b47e"
      },
      "source": [
        "from sklearn.metrics import accuracy_score\n",
        "\n",
        "melhor_modelo = busca.best_estimator_\n",
        "predicoes = melhor_modelo.predict(x_azar)\n",
        "acuracia = accuracy_score(predicoes, y_azar)\n",
        "\n",
        "print(\"Acurácia: %.2f%%\" % (acuracia * 100))"
      ],
      "execution_count": 17,
      "outputs": [
        {
          "output_type": "stream",
          "text": [
            "Acurácia: 78.75%\n"
          ],
          "name": "stdout"
        }
      ]
    },
    {
      "cell_type": "markdown",
      "metadata": {
        "id": "tW8AzOyA3BRZ"
      },
      "source": [
        "PORÉM, temos que evitar testá-lo dessa forma, pois estaremos sendo muito otimistas testando apenas uma vez com um conjunto de dados.\n",
        "\n",
        "Queremos uma estimativa mais realista sem o vício nos dados já vistos. Então fazemos uma nova validação cruzada, que se chama **Nested Cross Validation**:"
      ]
    },
    {
      "cell_type": "code",
      "metadata": {
        "colab": {
          "base_uri": "https://localhost:8080/"
        },
        "id": "sPbwoYvp0HcP",
        "outputId": "f6455926-26ca-4447-f192-b7d6bbd5c12d"
      },
      "source": [
        "from sklearn.model_selection import cross_val_score\n",
        "\n",
        "scores = cross_val_score(busca, x_azar, y_azar, cv = GroupKFold(n_splits=10), groups = x_azar.idade_do_modelo)"
      ],
      "execution_count": 18,
      "outputs": [
        {
          "output_type": "stream",
          "text": [
            "/usr/local/lib/python3.7/dist-packages/sklearn/model_selection/_validation.py:536: FitFailedWarning: Estimator fit failed. The score on this train-test partition for these parameters will be set to nan. Details: \n",
            "ValueError: The 'groups' parameter should not be None.\n",
            "\n",
            "  FitFailedWarning)\n"
          ],
          "name": "stderr"
        }
      ]
    },
    {
      "cell_type": "markdown",
      "metadata": {
        "id": "zcF6i2Du4TrT"
      },
      "source": [
        "O Nested Cross Validation possui um BUG com o GroupKFold, causando o erro:\n",
        "    \n",
        "    The 'groups' parameter should not be None.\n",
        "\n",
        "Enquanto o bug não é corrigido, podemos utilizar o KFold normal."
      ]
    },
    {
      "cell_type": "code",
      "metadata": {
        "colab": {
          "base_uri": "https://localhost:8080/",
          "height": 573
        },
        "id": "nyltSDsZ3n_S",
        "outputId": "76f24b2b-39a7-4c51-ede5-a648378104c5"
      },
      "source": [
        "busca = GridSearchCV(\n",
        "                        DecisionTreeClassifier(), \n",
        "                        espaco_de_parametros, \n",
        "                        cv = KFold(n_splits = 10, shuffle=True)\n",
        "                    )\n",
        "busca.fit(x_azar, y_azar)\n",
        "resultados = pd.DataFrame(busca.cv_results_)\n",
        "resultados.head()"
      ],
      "execution_count": 19,
      "outputs": [
        {
          "output_type": "execute_result",
          "data": {
            "text/html": [
              "<div>\n",
              "<style scoped>\n",
              "    .dataframe tbody tr th:only-of-type {\n",
              "        vertical-align: middle;\n",
              "    }\n",
              "\n",
              "    .dataframe tbody tr th {\n",
              "        vertical-align: top;\n",
              "    }\n",
              "\n",
              "    .dataframe thead th {\n",
              "        text-align: right;\n",
              "    }\n",
              "</style>\n",
              "<table border=\"1\" class=\"dataframe\">\n",
              "  <thead>\n",
              "    <tr style=\"text-align: right;\">\n",
              "      <th></th>\n",
              "      <th>mean_fit_time</th>\n",
              "      <th>std_fit_time</th>\n",
              "      <th>mean_score_time</th>\n",
              "      <th>std_score_time</th>\n",
              "      <th>param_criterion</th>\n",
              "      <th>param_max_depth</th>\n",
              "      <th>param_min_samples_leaf</th>\n",
              "      <th>param_min_samples_split</th>\n",
              "      <th>params</th>\n",
              "      <th>split0_test_score</th>\n",
              "      <th>split1_test_score</th>\n",
              "      <th>split2_test_score</th>\n",
              "      <th>split3_test_score</th>\n",
              "      <th>split4_test_score</th>\n",
              "      <th>split5_test_score</th>\n",
              "      <th>split6_test_score</th>\n",
              "      <th>split7_test_score</th>\n",
              "      <th>split8_test_score</th>\n",
              "      <th>split9_test_score</th>\n",
              "      <th>mean_test_score</th>\n",
              "      <th>std_test_score</th>\n",
              "      <th>rank_test_score</th>\n",
              "    </tr>\n",
              "  </thead>\n",
              "  <tbody>\n",
              "    <tr>\n",
              "      <th>0</th>\n",
              "      <td>0.008906</td>\n",
              "      <td>0.001000</td>\n",
              "      <td>0.001152</td>\n",
              "      <td>0.000714</td>\n",
              "      <td>gini</td>\n",
              "      <td>3</td>\n",
              "      <td>32</td>\n",
              "      <td>32</td>\n",
              "      <td>{'criterion': 'gini', 'max_depth': 3, 'min_sam...</td>\n",
              "      <td>0.787</td>\n",
              "      <td>0.772</td>\n",
              "      <td>0.779</td>\n",
              "      <td>0.778</td>\n",
              "      <td>0.809</td>\n",
              "      <td>0.803</td>\n",
              "      <td>0.8</td>\n",
              "      <td>0.781</td>\n",
              "      <td>0.771</td>\n",
              "      <td>0.789</td>\n",
              "      <td>0.7869</td>\n",
              "      <td>0.01255</td>\n",
              "      <td>1</td>\n",
              "    </tr>\n",
              "    <tr>\n",
              "      <th>1</th>\n",
              "      <td>0.009125</td>\n",
              "      <td>0.000925</td>\n",
              "      <td>0.000968</td>\n",
              "      <td>0.000121</td>\n",
              "      <td>gini</td>\n",
              "      <td>3</td>\n",
              "      <td>32</td>\n",
              "      <td>64</td>\n",
              "      <td>{'criterion': 'gini', 'max_depth': 3, 'min_sam...</td>\n",
              "      <td>0.787</td>\n",
              "      <td>0.772</td>\n",
              "      <td>0.779</td>\n",
              "      <td>0.778</td>\n",
              "      <td>0.809</td>\n",
              "      <td>0.803</td>\n",
              "      <td>0.8</td>\n",
              "      <td>0.781</td>\n",
              "      <td>0.771</td>\n",
              "      <td>0.789</td>\n",
              "      <td>0.7869</td>\n",
              "      <td>0.01255</td>\n",
              "      <td>1</td>\n",
              "    </tr>\n",
              "    <tr>\n",
              "      <th>2</th>\n",
              "      <td>0.008615</td>\n",
              "      <td>0.000565</td>\n",
              "      <td>0.000876</td>\n",
              "      <td>0.000046</td>\n",
              "      <td>gini</td>\n",
              "      <td>3</td>\n",
              "      <td>32</td>\n",
              "      <td>128</td>\n",
              "      <td>{'criterion': 'gini', 'max_depth': 3, 'min_sam...</td>\n",
              "      <td>0.787</td>\n",
              "      <td>0.772</td>\n",
              "      <td>0.779</td>\n",
              "      <td>0.778</td>\n",
              "      <td>0.809</td>\n",
              "      <td>0.803</td>\n",
              "      <td>0.8</td>\n",
              "      <td>0.781</td>\n",
              "      <td>0.771</td>\n",
              "      <td>0.789</td>\n",
              "      <td>0.7869</td>\n",
              "      <td>0.01255</td>\n",
              "      <td>1</td>\n",
              "    </tr>\n",
              "    <tr>\n",
              "      <th>3</th>\n",
              "      <td>0.008653</td>\n",
              "      <td>0.000604</td>\n",
              "      <td>0.000922</td>\n",
              "      <td>0.000119</td>\n",
              "      <td>gini</td>\n",
              "      <td>3</td>\n",
              "      <td>64</td>\n",
              "      <td>32</td>\n",
              "      <td>{'criterion': 'gini', 'max_depth': 3, 'min_sam...</td>\n",
              "      <td>0.787</td>\n",
              "      <td>0.772</td>\n",
              "      <td>0.779</td>\n",
              "      <td>0.778</td>\n",
              "      <td>0.809</td>\n",
              "      <td>0.803</td>\n",
              "      <td>0.8</td>\n",
              "      <td>0.781</td>\n",
              "      <td>0.771</td>\n",
              "      <td>0.789</td>\n",
              "      <td>0.7869</td>\n",
              "      <td>0.01255</td>\n",
              "      <td>1</td>\n",
              "    </tr>\n",
              "    <tr>\n",
              "      <th>4</th>\n",
              "      <td>0.008483</td>\n",
              "      <td>0.000150</td>\n",
              "      <td>0.000869</td>\n",
              "      <td>0.000028</td>\n",
              "      <td>gini</td>\n",
              "      <td>3</td>\n",
              "      <td>64</td>\n",
              "      <td>64</td>\n",
              "      <td>{'criterion': 'gini', 'max_depth': 3, 'min_sam...</td>\n",
              "      <td>0.787</td>\n",
              "      <td>0.772</td>\n",
              "      <td>0.779</td>\n",
              "      <td>0.778</td>\n",
              "      <td>0.809</td>\n",
              "      <td>0.803</td>\n",
              "      <td>0.8</td>\n",
              "      <td>0.781</td>\n",
              "      <td>0.771</td>\n",
              "      <td>0.789</td>\n",
              "      <td>0.7869</td>\n",
              "      <td>0.01255</td>\n",
              "      <td>1</td>\n",
              "    </tr>\n",
              "  </tbody>\n",
              "</table>\n",
              "</div>"
            ],
            "text/plain": [
              "   mean_fit_time  std_fit_time  ...  std_test_score  rank_test_score\n",
              "0       0.008906      0.001000  ...         0.01255                1\n",
              "1       0.009125      0.000925  ...         0.01255                1\n",
              "2       0.008615      0.000565  ...         0.01255                1\n",
              "3       0.008653      0.000604  ...         0.01255                1\n",
              "4       0.008483      0.000150  ...         0.01255                1\n",
              "\n",
              "[5 rows x 22 columns]"
            ]
          },
          "metadata": {},
          "execution_count": 19
        }
      ]
    },
    {
      "cell_type": "code",
      "metadata": {
        "colab": {
          "base_uri": "https://localhost:8080/"
        },
        "id": "9vlxNFfk5gFf",
        "outputId": "ca64ed25-3772-4acc-cc7f-fd4d1d924af9"
      },
      "source": [
        "print(\"Melhores parâmetros: \", busca.best_params_)\n",
        "print(\"Melhor score: \", busca.best_score_)\n",
        "print(\"Melhor estimador: \", busca.best_estimator_)"
      ],
      "execution_count": 20,
      "outputs": [
        {
          "output_type": "stream",
          "text": [
            "Melhores parâmetros:  {'criterion': 'gini', 'max_depth': 3, 'min_samples_leaf': 32, 'min_samples_split': 32}\n",
            "Melhor score:  0.7868999999999999\n",
            "Melhor estimador:  DecisionTreeClassifier(ccp_alpha=0.0, class_weight=None, criterion='gini',\n",
            "                       max_depth=3, max_features=None, max_leaf_nodes=None,\n",
            "                       min_impurity_decrease=0.0, min_impurity_split=None,\n",
            "                       min_samples_leaf=32, min_samples_split=32,\n",
            "                       min_weight_fraction_leaf=0.0, presort='deprecated',\n",
            "                       random_state=None, splitter='best')\n"
          ],
          "name": "stdout"
        }
      ]
    },
    {
      "cell_type": "markdown",
      "metadata": {
        "id": "tDgADR305uTb"
      },
      "source": [
        "Agora sim podemos rodar o Cross Val Score"
      ]
    },
    {
      "cell_type": "code",
      "metadata": {
        "colab": {
          "base_uri": "https://localhost:8080/"
        },
        "id": "_tYNRIx-5m6S",
        "outputId": "9a089035-1aac-4d62-8e97-c0d1d6add174"
      },
      "source": [
        "scores = cross_val_score(busca, x_azar, y_azar, cv = KFold(n_splits=10, shuffle=True))\n",
        "scores"
      ],
      "execution_count": 23,
      "outputs": [
        {
          "output_type": "execute_result",
          "data": {
            "text/plain": [
              "array([0.776, 0.81 , 0.773, 0.772, 0.783, 0.792, 0.783, 0.792, 0.78 ,\n",
              "       0.806])"
            ]
          },
          "metadata": {},
          "execution_count": 23
        }
      ]
    },
    {
      "cell_type": "markdown",
      "metadata": {
        "id": "qqZv9XNApYm4"
      },
      "source": [
        "# Resultados de acurácia com os melhores parâmetros da Decision Tree:"
      ]
    },
    {
      "cell_type": "code",
      "metadata": {
        "colab": {
          "base_uri": "https://localhost:8080/"
        },
        "id": "jPof9cy255fL",
        "outputId": "c64c15c3-a6a9-4e98-9b78-aa3b209783bd"
      },
      "source": [
        "intervalo_acuracia = [scores.mean()-(2*scores.std()), scores.mean()+(2*scores.std())]\n",
        "\n",
        "print(\"Resultados parciais: \", scores)\n",
        "print(\"Média de acurácia: %.2f%%\" % (scores.mean() * 100))\n",
        "print(\"Intervalo de acurácia: %.2f%% ~ %.2f%%\" % (intervalo_acuracia[0]*100, intervalo_acuracia[1]*100))"
      ],
      "execution_count": 25,
      "outputs": [
        {
          "output_type": "stream",
          "text": [
            "Resultados parciais:  [0.776 0.81  0.773 0.772 0.783 0.792 0.783 0.792 0.78  0.806]\n",
            "Média de acurácia: 78.67%\n",
            "Intervalo de acurácia: 76.17% ~ 81.17%\n"
          ],
          "name": "stdout"
        }
      ]
    }
  ]
}